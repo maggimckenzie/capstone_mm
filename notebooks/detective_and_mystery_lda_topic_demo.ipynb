{
 "cells": [
  {
   "cell_type": "markdown",
   "id": "3b2559ee",
   "metadata": {},
   "source": [
    "#### Intro slides: https://docs.google.com/presentation/d/12N0GYkmMtNn_qDIwK6gnu_VKtDQ-JVHg-PdQ-ukViXM/edit?usp=sharing\n"
   ]
  },
  {
   "cell_type": "markdown",
   "id": "e14ce482",
   "metadata": {},
   "source": [
    "# <font color = 'blue'>This notebooks reviews:</font>\n",
    "\n",
    "#### 1. Title selection by author\n",
    "#### 2. Topics important to selected title\n",
    "#### 3. Keywords important to selected topics\n",
    "#### 4. Titles that most closely match selected title\n",
    "#### 5. Metadata and subject list for title matches\n",
    "<br>\n",
    "<br>\n",
    "    "
   ]
  },
  {
   "cell_type": "markdown",
   "id": "1f3242ad",
   "metadata": {},
   "source": [
    "## <font color = 'blue'>Imports</font>"
   ]
  },
  {
   "cell_type": "code",
   "execution_count": 1,
   "id": "0ee4e67d",
   "metadata": {},
   "outputs": [
    {
     "name": "stderr",
     "output_type": "stream",
     "text": [
      "C:\\Users\\maggi\\Anaconda3\\lib\\site-packages\\gensim\\similarities\\__init__.py:15: UserWarning: The gensim.similarities.levenshtein submodule is disabled, because the optional Levenshtein package <https://pypi.org/project/python-Levenshtein/> is unavailable. Install Levenhstein (e.g. `pip install python-Levenshtein`) to suppress this warning.\n",
      "  warnings.warn(msg)\n"
     ]
    }
   ],
   "source": [
    "#Gensim\n",
    "import gensim\n",
    "import gensim.corpora as corpora\n",
    "#from gensim.utils import simple_preprocess\n",
    "#from gensim.models import CoherenceModel\n",
    "import pandas as pd\n",
    "import numpy as np\n",
    "import matplotlib.pyplot as plt\n",
    "%matplotlib inline\n",
    "from wordcloud import WordCloud\n",
    "import ipywidgets as widgets\n",
    "from ipywidgets import interact, interact_manual\n",
    "from sklearn.metrics.pairwise import euclidean_distances\n",
    "from wordcloud import WordCloud "
   ]
  },
  {
   "cell_type": "markdown",
   "id": "004f8bd5",
   "metadata": {},
   "source": [
    "## <font color = 'blue'>Load data frames and model</font>\n",
    "LDA model using gensim generating 20 topics"
   ]
  },
  {
   "cell_type": "code",
   "execution_count": 2,
   "id": "1e852df1",
   "metadata": {},
   "outputs": [],
   "source": [
    "#Load metadata\n",
    "metadata = pd.read_csv('../data/model_data/dm_lda_04/metadata_lda04.csv')\n",
    "#Load model\n",
    "model = gensim.models.ldamodel.LdaModel.load('../data/model_data/dm_lda_04/model.lda04')\n",
    "#Load topics per book\n",
    "topics_summary = pd.read_csv('../data/model_data/dm_lda_04/topics_summary.csv')"
   ]
  },
  {
   "cell_type": "code",
   "execution_count": 3,
   "id": "d5aa1f56",
   "metadata": {},
   "outputs": [],
   "source": [
    "#Top 10 keywords per topic\n",
    "contents = []\n",
    "for t in range(model.num_topics):\n",
    "    wordlist = list(model.show_topic(t, 10))\n",
    "    for words in wordlist:\n",
    "        contents.append({'topic':t, 'keyword': words[0], 'importance': words[1]})\n",
    "keywords = pd.DataFrame(contents)\n"
   ]
  },
  {
   "cell_type": "markdown",
   "id": "1718b869",
   "metadata": {},
   "source": [
    "## <font color = 'blue'>A sample of topic importances by book</font>"
   ]
  },
  {
   "cell_type": "code",
   "execution_count": 4,
   "id": "e3f7cbf9",
   "metadata": {},
   "outputs": [
    {
     "data": {
      "text/html": [
       "<div>\n",
       "<style scoped>\n",
       "    .dataframe tbody tr th:only-of-type {\n",
       "        vertical-align: middle;\n",
       "    }\n",
       "\n",
       "    .dataframe tbody tr th {\n",
       "        vertical-align: top;\n",
       "    }\n",
       "\n",
       "    .dataframe thead th {\n",
       "        text-align: right;\n",
       "    }\n",
       "</style>\n",
       "<table border=\"1\" class=\"dataframe\">\n",
       "  <thead>\n",
       "    <tr style=\"text-align: right;\">\n",
       "      <th></th>\n",
       "      <th>pg_id</th>\n",
       "      <th>doc_index</th>\n",
       "      <th>topic_0</th>\n",
       "      <th>topic_1</th>\n",
       "      <th>topic_2</th>\n",
       "      <th>topic_3</th>\n",
       "      <th>topic_4</th>\n",
       "      <th>topic_5</th>\n",
       "      <th>topic_6</th>\n",
       "      <th>topic_7</th>\n",
       "      <th>...</th>\n",
       "      <th>topic_10</th>\n",
       "      <th>topic_11</th>\n",
       "      <th>topic_12</th>\n",
       "      <th>topic_13</th>\n",
       "      <th>topic_14</th>\n",
       "      <th>topic_15</th>\n",
       "      <th>topic_16</th>\n",
       "      <th>topic_17</th>\n",
       "      <th>topic_18</th>\n",
       "      <th>topic_19</th>\n",
       "    </tr>\n",
       "  </thead>\n",
       "  <tbody>\n",
       "    <tr>\n",
       "      <th>0</th>\n",
       "      <td>PG10057</td>\n",
       "      <td>0</td>\n",
       "      <td>0.002099</td>\n",
       "      <td>0.000328</td>\n",
       "      <td>0.075983</td>\n",
       "      <td>0.111052</td>\n",
       "      <td>0.006879</td>\n",
       "      <td>0.005760</td>\n",
       "      <td>0.027011</td>\n",
       "      <td>0.001206</td>\n",
       "      <td>...</td>\n",
       "      <td>0.021455</td>\n",
       "      <td>0.025291</td>\n",
       "      <td>0.130951</td>\n",
       "      <td>0.050395</td>\n",
       "      <td>0.009008</td>\n",
       "      <td>0.290606</td>\n",
       "      <td>0.043932</td>\n",
       "      <td>0.069184</td>\n",
       "      <td>0.067990</td>\n",
       "      <td>0.005143</td>\n",
       "    </tr>\n",
       "    <tr>\n",
       "      <th>1</th>\n",
       "      <td>PG10067</td>\n",
       "      <td>1</td>\n",
       "      <td>0.001172</td>\n",
       "      <td>0.006686</td>\n",
       "      <td>0.045212</td>\n",
       "      <td>0.063337</td>\n",
       "      <td>0.022029</td>\n",
       "      <td>0.000235</td>\n",
       "      <td>0.029929</td>\n",
       "      <td>0.010021</td>\n",
       "      <td>...</td>\n",
       "      <td>0.036915</td>\n",
       "      <td>0.105833</td>\n",
       "      <td>0.140186</td>\n",
       "      <td>0.046200</td>\n",
       "      <td>0.001156</td>\n",
       "      <td>0.248974</td>\n",
       "      <td>0.015719</td>\n",
       "      <td>0.046573</td>\n",
       "      <td>0.084675</td>\n",
       "      <td>0.005638</td>\n",
       "    </tr>\n",
       "    <tr>\n",
       "      <th>2</th>\n",
       "      <td>PG10082</td>\n",
       "      <td>2</td>\n",
       "      <td>0.002074</td>\n",
       "      <td>0.002601</td>\n",
       "      <td>0.031155</td>\n",
       "      <td>0.074460</td>\n",
       "      <td>0.021008</td>\n",
       "      <td>0.001451</td>\n",
       "      <td>0.015176</td>\n",
       "      <td>0.000000</td>\n",
       "      <td>...</td>\n",
       "      <td>0.039292</td>\n",
       "      <td>0.055678</td>\n",
       "      <td>0.079571</td>\n",
       "      <td>0.036918</td>\n",
       "      <td>0.000277</td>\n",
       "      <td>0.264973</td>\n",
       "      <td>0.024837</td>\n",
       "      <td>0.053421</td>\n",
       "      <td>0.067036</td>\n",
       "      <td>0.004741</td>\n",
       "    </tr>\n",
       "    <tr>\n",
       "      <th>3</th>\n",
       "      <td>PG10110</td>\n",
       "      <td>3</td>\n",
       "      <td>0.000000</td>\n",
       "      <td>0.000666</td>\n",
       "      <td>0.063976</td>\n",
       "      <td>0.100419</td>\n",
       "      <td>0.016767</td>\n",
       "      <td>0.001560</td>\n",
       "      <td>0.021734</td>\n",
       "      <td>0.000379</td>\n",
       "      <td>...</td>\n",
       "      <td>0.023847</td>\n",
       "      <td>0.063837</td>\n",
       "      <td>0.095575</td>\n",
       "      <td>0.060068</td>\n",
       "      <td>0.003135</td>\n",
       "      <td>0.261102</td>\n",
       "      <td>0.057441</td>\n",
       "      <td>0.052551</td>\n",
       "      <td>0.050909</td>\n",
       "      <td>0.015607</td>\n",
       "    </tr>\n",
       "    <tr>\n",
       "      <th>4</th>\n",
       "      <td>PG10377</td>\n",
       "      <td>4</td>\n",
       "      <td>0.000597</td>\n",
       "      <td>0.001484</td>\n",
       "      <td>0.025551</td>\n",
       "      <td>0.046569</td>\n",
       "      <td>0.022708</td>\n",
       "      <td>0.007099</td>\n",
       "      <td>0.006495</td>\n",
       "      <td>0.001405</td>\n",
       "      <td>...</td>\n",
       "      <td>0.006505</td>\n",
       "      <td>0.032670</td>\n",
       "      <td>0.147046</td>\n",
       "      <td>0.030050</td>\n",
       "      <td>0.005407</td>\n",
       "      <td>0.291932</td>\n",
       "      <td>0.031601</td>\n",
       "      <td>0.190689</td>\n",
       "      <td>0.066801</td>\n",
       "      <td>0.002084</td>\n",
       "    </tr>\n",
       "  </tbody>\n",
       "</table>\n",
       "<p>5 rows × 22 columns</p>\n",
       "</div>"
      ],
      "text/plain": [
       "     pg_id  doc_index   topic_0   topic_1   topic_2   topic_3   topic_4  \\\n",
       "0  PG10057          0  0.002099  0.000328  0.075983  0.111052  0.006879   \n",
       "1  PG10067          1  0.001172  0.006686  0.045212  0.063337  0.022029   \n",
       "2  PG10082          2  0.002074  0.002601  0.031155  0.074460  0.021008   \n",
       "3  PG10110          3  0.000000  0.000666  0.063976  0.100419  0.016767   \n",
       "4  PG10377          4  0.000597  0.001484  0.025551  0.046569  0.022708   \n",
       "\n",
       "    topic_5   topic_6   topic_7  ...  topic_10  topic_11  topic_12  topic_13  \\\n",
       "0  0.005760  0.027011  0.001206  ...  0.021455  0.025291  0.130951  0.050395   \n",
       "1  0.000235  0.029929  0.010021  ...  0.036915  0.105833  0.140186  0.046200   \n",
       "2  0.001451  0.015176  0.000000  ...  0.039292  0.055678  0.079571  0.036918   \n",
       "3  0.001560  0.021734  0.000379  ...  0.023847  0.063837  0.095575  0.060068   \n",
       "4  0.007099  0.006495  0.001405  ...  0.006505  0.032670  0.147046  0.030050   \n",
       "\n",
       "   topic_14  topic_15  topic_16  topic_17  topic_18  topic_19  \n",
       "0  0.009008  0.290606  0.043932  0.069184  0.067990  0.005143  \n",
       "1  0.001156  0.248974  0.015719  0.046573  0.084675  0.005638  \n",
       "2  0.000277  0.264973  0.024837  0.053421  0.067036  0.004741  \n",
       "3  0.003135  0.261102  0.057441  0.052551  0.050909  0.015607  \n",
       "4  0.005407  0.291932  0.031601  0.190689  0.066801  0.002084  \n",
       "\n",
       "[5 rows x 22 columns]"
      ]
     },
     "execution_count": 4,
     "metadata": {},
     "output_type": "execute_result"
    }
   ],
   "source": [
    "topics_summary.head()\n",
    "#metadata.head()"
   ]
  },
  {
   "cell_type": "markdown",
   "id": "bc65ec25",
   "metadata": {},
   "source": [
    "## <font color = 'blue'>Define functions</font>"
   ]
  },
  {
   "cell_type": "code",
   "execution_count": 110,
   "id": "c568e7a9",
   "metadata": {},
   "outputs": [],
   "source": [
    "def booklist_topics(booklist):\n",
    "    topics_list = topics_summary[topics_summary['pg_id']==(booklist)].sum()\n",
    "    return(topics_list)"
   ]
  },
  {
   "cell_type": "code",
   "execution_count": 6,
   "id": "ac0d58b0",
   "metadata": {},
   "outputs": [],
   "source": [
    "# Calculate euclidean distances for one book and output to a data frame\n",
    "def show_title_matches(X_index):\n",
    "    X = np.array([topics_summary.iloc[X_index,2:]])\n",
    "    #print(X)\n",
    "    contents = []\n",
    "    for doc_index in range(len(topics_summary)):\n",
    "        #print(doc_index)\n",
    "        Y = np.array([topics_summary.iloc[doc_index, 2:]])\n",
    "        dist = euclidean_distances(X,Y)[0][0]\n",
    "        contents.append([doc_index, dist])\n",
    "    doc_dist = pd.DataFrame(contents, columns = ['doc_index', 'dist'])\n",
    "    doc_dist.sort_values('dist').head()\n",
    "    doc_list = doc_dist.sort_values('dist').head()['doc_index'].to_list()\n",
    "    pg_id_list = topics_summary[topics_summary['doc_index'].isin(doc_list)]['pg_id'].to_list()\n",
    "    return metadata[metadata['id'].isin(pg_id_list)][['id','title','author','downloads','subjects']]"
   ]
  },
  {
   "cell_type": "code",
   "execution_count": 7,
   "id": "f2a8922a",
   "metadata": {},
   "outputs": [],
   "source": [
    "# Expand multiple subjects per title into a long form list\n",
    "def show_title_subjects(meta_list):\n",
    "    contents = []\n",
    "    for row in meta_list.iterrows():\n",
    "        #print(row[1])\n",
    "        pg_id = (row[1][0])\n",
    "        title = (row[1][1])\n",
    "        subj = (row[1][4])\n",
    "        subj = subj.replace('{','')\n",
    "        subj = subj.replace('}','')\n",
    "        subj = subj.split(\"', \")\n",
    "        for item in subj:\n",
    "            contents.append({'pg_id':pg_id,'title':title,'subject':item.replace(\"'\",\"\")})\n",
    "    return pd.DataFrame(contents)"
   ]
  },
  {
   "cell_type": "code",
   "execution_count": 57,
   "id": "6a6d54ce",
   "metadata": {},
   "outputs": [],
   "source": [
    "def get_topics():\n",
    "    return list(keywords['topic'].sort_values().unique())"
   ]
  },
  {
   "cell_type": "markdown",
   "id": "f7d33d61",
   "metadata": {},
   "source": [
    "## <font color = 'blue'>Topics modeled</font>"
   ]
  },
  {
   "cell_type": "code",
   "execution_count": 60,
   "id": "f8751d4a",
   "metadata": {},
   "outputs": [
    {
     "data": {
      "application/vnd.jupyter.widget-view+json": {
       "model_id": "afad8843574f4b8ea603203b0662dc22",
       "version_major": 2,
       "version_minor": 0
      },
      "text/plain": [
       "interactive(children=(Dropdown(description='topic', options=(0, 1, 2, 3, 4, 5, 6, 7, 8, 9, 10, 11, 12, 13, 14,…"
      ]
     },
     "metadata": {},
     "output_type": "display_data"
    }
   ],
   "source": [
    "@interact\n",
    "def show_topic_wordcloud(topic = get_topics()):\n",
    "    plt.figure(figsize=(12,8))\n",
    "    plt.imshow(WordCloud(background_color=None).fit_words(dict(model.show_topic(topic, 200))))\n",
    "    plt.axis(\"off\")\n",
    "    plt.title(\"Topic #\" + str(topic))\n",
    "    return plt.show()"
   ]
  },
  {
   "cell_type": "markdown",
   "id": "0b6f8dcc",
   "metadata": {},
   "source": [
    "## <font color = 'blue'>Titles by topic importance</font>"
   ]
  },
  {
   "cell_type": "code",
   "execution_count": 86,
   "id": "726b1f45",
   "metadata": {},
   "outputs": [
    {
     "data": {
      "application/vnd.jupyter.widget-view+json": {
       "model_id": "c132cc0e2df64223a9f1138e652ed22d",
       "version_major": 2,
       "version_minor": 0
      },
      "text/plain": [
       "interactive(children=(Dropdown(description='topic', options=(0, 1, 2, 3, 4, 5, 6, 7, 8, 9, 10, 11, 12, 13, 14,…"
      ]
     },
     "metadata": {},
     "output_type": "display_data"
    }
   ],
   "source": [
    "@interact\n",
    "def show_books_for_topic(topic = get_topics()):\n",
    "    col = 'topic_'+str(topic)\n",
    "    df = topics_summary[topics_summary[col]>0][['pg_id','doc_index',col]].sort_values(col,ascending = False).head()\n",
    "    global pg_list\n",
    "    pg_list = list(df['pg_id'])\n",
    "    return df\n",
    "    "
   ]
  },
  {
   "cell_type": "code",
   "execution_count": 125,
   "id": "42f16497",
   "metadata": {},
   "outputs": [
    {
     "data": {
      "text/html": [
       "<div>\n",
       "<style scoped>\n",
       "    .dataframe tbody tr th:only-of-type {\n",
       "        vertical-align: middle;\n",
       "    }\n",
       "\n",
       "    .dataframe tbody tr th {\n",
       "        vertical-align: top;\n",
       "    }\n",
       "\n",
       "    .dataframe thead th {\n",
       "        text-align: right;\n",
       "    }\n",
       "</style>\n",
       "<table border=\"1\" class=\"dataframe\">\n",
       "  <thead>\n",
       "    <tr style=\"text-align: right;\">\n",
       "      <th></th>\n",
       "      <th>id</th>\n",
       "      <th>title</th>\n",
       "      <th>author</th>\n",
       "      <th>downloads</th>\n",
       "      <th>subjects</th>\n",
       "    </tr>\n",
       "  </thead>\n",
       "  <tbody>\n",
       "    <tr>\n",
       "      <th>149</th>\n",
       "      <td>PG2358</td>\n",
       "      <td>The After House</td>\n",
       "      <td>Rinehart, Mary Roberts</td>\n",
       "      <td>86</td>\n",
       "      <td>{'Murder -- Fiction', 'Yachts -- Fiction', 'De...</td>\n",
       "    </tr>\n",
       "    <tr>\n",
       "      <th>232</th>\n",
       "      <td>PG33065</td>\n",
       "      <td>The Indian Drum</td>\n",
       "      <td>Balmer, Edwin</td>\n",
       "      <td>22</td>\n",
       "      <td>{'Chicago (Ill.) -- Fiction', 'Mystery fiction...</td>\n",
       "    </tr>\n",
       "    <tr>\n",
       "      <th>292</th>\n",
       "      <td>PG35823</td>\n",
       "      <td>The Secret of the Reef</td>\n",
       "      <td>Bindloss, Harold</td>\n",
       "      <td>16</td>\n",
       "      <td>{'Salvage -- Fiction', 'Alaska -- Fiction', 'S...</td>\n",
       "    </tr>\n",
       "    <tr>\n",
       "      <th>549</th>\n",
       "      <td>PG55993</td>\n",
       "      <td>The Diamond Ship</td>\n",
       "      <td>Pemberton, Max</td>\n",
       "      <td>13</td>\n",
       "      <td>{'Jewel thieves -- Fiction', 'Adventure storie...</td>\n",
       "    </tr>\n",
       "    <tr>\n",
       "      <th>657</th>\n",
       "      <td>PG64873</td>\n",
       "      <td>Ice Planet</td>\n",
       "      <td>Selwyn, Carl</td>\n",
       "      <td>268</td>\n",
       "      <td>{'Neptune (Planet) -- Fiction', 'Mystery ficti...</td>\n",
       "    </tr>\n",
       "  </tbody>\n",
       "</table>\n",
       "</div>"
      ],
      "text/plain": [
       "          id                   title                  author  downloads  \\\n",
       "149   PG2358         The After House  Rinehart, Mary Roberts         86   \n",
       "232  PG33065         The Indian Drum           Balmer, Edwin         22   \n",
       "292  PG35823  The Secret of the Reef        Bindloss, Harold         16   \n",
       "549  PG55993        The Diamond Ship          Pemberton, Max         13   \n",
       "657  PG64873              Ice Planet            Selwyn, Carl        268   \n",
       "\n",
       "                                              subjects  \n",
       "149  {'Murder -- Fiction', 'Yachts -- Fiction', 'De...  \n",
       "232  {'Chicago (Ill.) -- Fiction', 'Mystery fiction...  \n",
       "292  {'Salvage -- Fiction', 'Alaska -- Fiction', 'S...  \n",
       "549  {'Jewel thieves -- Fiction', 'Adventure storie...  \n",
       "657  {'Neptune (Planet) -- Fiction', 'Mystery ficti...  "
      ]
     },
     "execution_count": 125,
     "metadata": {},
     "output_type": "execute_result"
    }
   ],
   "source": [
    "metadata[metadata['id'].isin(pg_list)][['id','title','author','downloads','subjects']]"
   ]
  },
  {
   "cell_type": "markdown",
   "id": "d865bd7c",
   "metadata": {},
   "source": [
    "## <font color = 'blue'>Titles by author</font>"
   ]
  },
  {
   "cell_type": "code",
   "execution_count": 116,
   "id": "e610f99d",
   "metadata": {},
   "outputs": [
    {
     "data": {
      "application/vnd.jupyter.widget-view+json": {
       "model_id": "8180840bfcdd4059a66af81c34ffaf05",
       "version_major": 2,
       "version_minor": 0
      },
      "text/plain": [
       "interactive(children=(Dropdown(description='author', options=('Adams, O. S.', 'Adams, Samuel Hopkins', 'Ainswo…"
      ]
     },
     "metadata": {},
     "output_type": "display_data"
    }
   ],
   "source": [
    "@interact\n",
    "def show_author_books(author = list(metadata['author'].sort_values().unique())):\n",
    "    df = metadata[metadata['author']==author][['id','title','author','downloads','subjects']]\n",
    "    global auth_list\n",
    "    auth_list = list(df['id'])\n",
    "    return df"
   ]
  },
  {
   "cell_type": "markdown",
   "id": "c0d8abd6",
   "metadata": {},
   "source": [
    "## <font color = 'blue'>Topics important to selected title</font>"
   ]
  },
  {
   "cell_type": "code",
   "execution_count": 126,
   "id": "cbc72cd3",
   "metadata": {},
   "outputs": [
    {
     "data": {
      "application/vnd.jupyter.widget-view+json": {
       "model_id": "b241d69357444fcbb5e00d09caf2769e",
       "version_major": 2,
       "version_minor": 0
      },
      "text/plain": [
       "interactive(children=(Dropdown(description='booklist', options=('PG28595', 'PG39891', 'PG55993'), value='PG285…"
      ]
     },
     "metadata": {},
     "output_type": "display_data"
    }
   ],
   "source": [
    "@interact\n",
    "def show_list_topics(booklist = auth_list):\n",
    "    df = pd.DataFrame(booklist_topics(booklist)[2:], columns = ['importance'])\n",
    "    df = df.sort_values('importance', ascending = False).head(8)\n",
    "    global book_sel\n",
    "    book_sel = booklist\n",
    "    return df"
   ]
  },
  {
   "cell_type": "markdown",
   "id": "804af390",
   "metadata": {},
   "source": [
    "## <font color = 'blue'>Keywords important to selected topics</font>"
   ]
  },
  {
   "cell_type": "code",
   "execution_count": 10,
   "id": "9a171713",
   "metadata": {},
   "outputs": [
    {
     "data": {
      "application/vnd.jupyter.widget-view+json": {
       "model_id": "593285a2b9ea464bb1d81b05525af0fb",
       "version_major": 2,
       "version_minor": 0
      },
      "text/plain": [
       "interactive(children=(Dropdown(description='topic', options=(0, 1, 2, 3, 4, 5, 6, 7, 8, 9, 10, 11, 12, 13, 14,…"
      ]
     },
     "metadata": {},
     "output_type": "display_data"
    }
   ],
   "source": [
    "@interact\n",
    "def show_topic_keywords(topic = list(keywords['topic'].sort_values().unique())):\n",
    "    return keywords[keywords['topic']==topic]\n",
    "# add word cloud and num_words selection"
   ]
  },
  {
   "cell_type": "markdown",
   "id": "7ea38734",
   "metadata": {},
   "source": [
    "## <font color = 'blue'>Titles that most closely match selected title</font>"
   ]
  },
  {
   "cell_type": "code",
   "execution_count": 127,
   "id": "657eaaf3",
   "metadata": {},
   "outputs": [
    {
     "data": {
      "text/html": [
       "<div>\n",
       "<style scoped>\n",
       "    .dataframe tbody tr th:only-of-type {\n",
       "        vertical-align: middle;\n",
       "    }\n",
       "\n",
       "    .dataframe tbody tr th {\n",
       "        vertical-align: top;\n",
       "    }\n",
       "\n",
       "    .dataframe thead th {\n",
       "        text-align: right;\n",
       "    }\n",
       "</style>\n",
       "<table border=\"1\" class=\"dataframe\">\n",
       "  <thead>\n",
       "    <tr style=\"text-align: right;\">\n",
       "      <th></th>\n",
       "      <th>id</th>\n",
       "      <th>title</th>\n",
       "      <th>author</th>\n",
       "      <th>downloads</th>\n",
       "    </tr>\n",
       "  </thead>\n",
       "  <tbody>\n",
       "    <tr>\n",
       "      <th>219</th>\n",
       "      <td>PG32117</td>\n",
       "      <td>Eleven Possible Cases</td>\n",
       "      <td>Fawcett, Edgar</td>\n",
       "      <td>86</td>\n",
       "    </tr>\n",
       "    <tr>\n",
       "      <th>257</th>\n",
       "      <td>PG34611</td>\n",
       "      <td>Geoffrey Hampstead: A Novel</td>\n",
       "      <td>Jarvis, Stinson</td>\n",
       "      <td>23</td>\n",
       "    </tr>\n",
       "    <tr>\n",
       "      <th>358</th>\n",
       "      <td>PG40821</td>\n",
       "      <td>Fighting Byng: A Novel of Mystery, Intrigue an...</td>\n",
       "      <td>Stone, A.</td>\n",
       "      <td>20</td>\n",
       "    </tr>\n",
       "    <tr>\n",
       "      <th>549</th>\n",
       "      <td>PG55993</td>\n",
       "      <td>The Diamond Ship</td>\n",
       "      <td>Pemberton, Max</td>\n",
       "      <td>13</td>\n",
       "    </tr>\n",
       "    <tr>\n",
       "      <th>635</th>\n",
       "      <td>PG61514</td>\n",
       "      <td>Captain Sparkle, Pirate; Or, A Hard Man to Catch</td>\n",
       "      <td>Carter, Nicholas (House name)</td>\n",
       "      <td>30</td>\n",
       "    </tr>\n",
       "  </tbody>\n",
       "</table>\n",
       "</div>"
      ],
      "text/plain": [
       "          id                                              title  \\\n",
       "219  PG32117                              Eleven Possible Cases   \n",
       "257  PG34611                        Geoffrey Hampstead: A Novel   \n",
       "358  PG40821  Fighting Byng: A Novel of Mystery, Intrigue an...   \n",
       "549  PG55993                                   The Diamond Ship   \n",
       "635  PG61514   Captain Sparkle, Pirate; Or, A Hard Man to Catch   \n",
       "\n",
       "                            author  downloads  \n",
       "219                 Fawcett, Edgar         86  \n",
       "257                Jarvis, Stinson         23  \n",
       "358                      Stone, A.         20  \n",
       "549                 Pemberton, Max         13  \n",
       "635  Carter, Nicholas (House name)         30  "
      ]
     },
     "execution_count": 127,
     "metadata": {},
     "output_type": "execute_result"
    }
   ],
   "source": [
    "X_index = metadata.index[metadata['id']==book_sel].tolist()[0]\n",
    "meta_list = show_title_matches(X_index)\n",
    "meta_list[['id','title','author','downloads']]"
   ]
  },
  {
   "cell_type": "markdown",
   "id": "f4392253",
   "metadata": {},
   "source": [
    "## <font color = 'blue'>Expand the subjects per title</font>"
   ]
  },
  {
   "cell_type": "code",
   "execution_count": 128,
   "id": "2f860ece",
   "metadata": {},
   "outputs": [
    {
     "data": {
      "text/html": [
       "<style  type=\"text/css\" >\n",
       "#T_e921f_row0_col1,#T_e921f_row1_col1,#T_e921f_row2_col1,#T_e921f_row3_col1,#T_e921f_row4_col1,#T_e921f_row5_col1,#T_e921f_row6_col1,#T_e921f_row7_col1,#T_e921f_row8_col1,#T_e921f_row9_col1,#T_e921f_row10_col1,#T_e921f_row11_col1,#T_e921f_row12_col1,#T_e921f_row13_col1,#T_e921f_row14_col1,#T_e921f_row15_col1{\n",
       "            width:  500px;\n",
       "        }</style><table id=\"T_e921f_\" ><thead>    <tr>        <th class=\"blank level0\" ></th>        <th class=\"col_heading level0 col0\" >pg_id</th>        <th class=\"col_heading level0 col1\" >title</th>        <th class=\"col_heading level0 col2\" >subject</th>    </tr></thead><tbody>\n",
       "                <tr>\n",
       "                        <th id=\"T_e921f_level0_row0\" class=\"row_heading level0 row0\" >0</th>\n",
       "                        <td id=\"T_e921f_row0_col0\" class=\"data row0 col0\" >PG32117</td>\n",
       "                        <td id=\"T_e921f_row0_col1\" class=\"data row0 col1\" >Eleven Possible Cases</td>\n",
       "                        <td id=\"T_e921f_row0_col2\" class=\"data row0 col2\" >Short stories</td>\n",
       "            </tr>\n",
       "            <tr>\n",
       "                        <th id=\"T_e921f_level0_row1\" class=\"row_heading level0 row1\" >1</th>\n",
       "                        <td id=\"T_e921f_row1_col0\" class=\"data row1 col0\" >PG32117</td>\n",
       "                        <td id=\"T_e921f_row1_col1\" class=\"data row1 col1\" >Eleven Possible Cases</td>\n",
       "                        <td id=\"T_e921f_row1_col2\" class=\"data row1 col2\" >Fiction</td>\n",
       "            </tr>\n",
       "            <tr>\n",
       "                        <th id=\"T_e921f_level0_row2\" class=\"row_heading level0 row2\" >2</th>\n",
       "                        <td id=\"T_e921f_row2_col0\" class=\"data row2 col0\" >PG32117</td>\n",
       "                        <td id=\"T_e921f_row2_col1\" class=\"data row2 col1\" >Eleven Possible Cases</td>\n",
       "                        <td id=\"T_e921f_row2_col2\" class=\"data row2 col2\" >Detective and mystery stories</td>\n",
       "            </tr>\n",
       "            <tr>\n",
       "                        <th id=\"T_e921f_level0_row3\" class=\"row_heading level0 row3\" >3</th>\n",
       "                        <td id=\"T_e921f_row3_col0\" class=\"data row3 col0\" >PG34611</td>\n",
       "                        <td id=\"T_e921f_row3_col1\" class=\"data row3 col1\" >Geoffrey Hampstead: A Novel</td>\n",
       "                        <td id=\"T_e921f_row3_col2\" class=\"data row3 col2\" >Detective and mystery stories</td>\n",
       "            </tr>\n",
       "            <tr>\n",
       "                        <th id=\"T_e921f_level0_row4\" class=\"row_heading level0 row4\" >4</th>\n",
       "                        <td id=\"T_e921f_row4_col0\" class=\"data row4 col0\" >PG34611</td>\n",
       "                        <td id=\"T_e921f_row4_col1\" class=\"data row4 col1\" >Geoffrey Hampstead: A Novel</td>\n",
       "                        <td id=\"T_e921f_row4_col2\" class=\"data row4 col2\" >Toronto (Ont.) -- Fiction</td>\n",
       "            </tr>\n",
       "            <tr>\n",
       "                        <th id=\"T_e921f_level0_row5\" class=\"row_heading level0 row5\" >5</th>\n",
       "                        <td id=\"T_e921f_row5_col0\" class=\"data row5 col0\" >PG40821</td>\n",
       "                        <td id=\"T_e921f_row5_col1\" class=\"data row5 col1\" >Fighting Byng: A Novel of Mystery, Intrigue and Adventure</td>\n",
       "                        <td id=\"T_e921f_row5_col2\" class=\"data row5 col2\" >Detective and mystery stories</td>\n",
       "            </tr>\n",
       "            <tr>\n",
       "                        <th id=\"T_e921f_level0_row6\" class=\"row_heading level0 row6\" >6</th>\n",
       "                        <td id=\"T_e921f_row6_col0\" class=\"data row6 col0\" >PG40821</td>\n",
       "                        <td id=\"T_e921f_row6_col1\" class=\"data row6 col1\" >Fighting Byng: A Novel of Mystery, Intrigue and Adventure</td>\n",
       "                        <td id=\"T_e921f_row6_col2\" class=\"data row6 col2\" >Fiction</td>\n",
       "            </tr>\n",
       "            <tr>\n",
       "                        <th id=\"T_e921f_level0_row7\" class=\"row_heading level0 row7\" >7</th>\n",
       "                        <td id=\"T_e921f_row7_col0\" class=\"data row7 col0\" >PG55993</td>\n",
       "                        <td id=\"T_e921f_row7_col1\" class=\"data row7 col1\" >The Diamond Ship</td>\n",
       "                        <td id=\"T_e921f_row7_col2\" class=\"data row7 col2\" >Jewel thieves -- Fiction</td>\n",
       "            </tr>\n",
       "            <tr>\n",
       "                        <th id=\"T_e921f_level0_row8\" class=\"row_heading level0 row8\" >8</th>\n",
       "                        <td id=\"T_e921f_row8_col0\" class=\"data row8 col0\" >PG55993</td>\n",
       "                        <td id=\"T_e921f_row8_col1\" class=\"data row8 col1\" >The Diamond Ship</td>\n",
       "                        <td id=\"T_e921f_row8_col2\" class=\"data row8 col2\" >Adventure stories</td>\n",
       "            </tr>\n",
       "            <tr>\n",
       "                        <th id=\"T_e921f_level0_row9\" class=\"row_heading level0 row9\" >9</th>\n",
       "                        <td id=\"T_e921f_row9_col0\" class=\"data row9 col0\" >PG55993</td>\n",
       "                        <td id=\"T_e921f_row9_col1\" class=\"data row9 col1\" >The Diamond Ship</td>\n",
       "                        <td id=\"T_e921f_row9_col2\" class=\"data row9 col2\" >Mystery fiction</td>\n",
       "            </tr>\n",
       "            <tr>\n",
       "                        <th id=\"T_e921f_level0_row10\" class=\"row_heading level0 row10\" >10</th>\n",
       "                        <td id=\"T_e921f_row10_col0\" class=\"data row10 col0\" >PG61514</td>\n",
       "                        <td id=\"T_e921f_row10_col1\" class=\"data row10 col1\" >Captain Sparkle, Pirate; Or, A Hard Man to Catch</td>\n",
       "                        <td id=\"T_e921f_row10_col2\" class=\"data row10 col2\" >Popular literature</td>\n",
       "            </tr>\n",
       "            <tr>\n",
       "                        <th id=\"T_e921f_level0_row11\" class=\"row_heading level0 row11\" >11</th>\n",
       "                        <td id=\"T_e921f_row11_col0\" class=\"data row11 col0\" >PG61514</td>\n",
       "                        <td id=\"T_e921f_row11_col1\" class=\"data row11 col1\" >Captain Sparkle, Pirate; Or, A Hard Man to Catch</td>\n",
       "                        <td id=\"T_e921f_row11_col2\" class=\"data row11 col2\" >Millionaires -- Fiction</td>\n",
       "            </tr>\n",
       "            <tr>\n",
       "                        <th id=\"T_e921f_level0_row12\" class=\"row_heading level0 row12\" >12</th>\n",
       "                        <td id=\"T_e921f_row12_col0\" class=\"data row12 col0\" >PG61514</td>\n",
       "                        <td id=\"T_e921f_row12_col1\" class=\"data row12 col1\" >Captain Sparkle, Pirate; Or, A Hard Man to Catch</td>\n",
       "                        <td id=\"T_e921f_row12_col2\" class=\"data row12 col2\" >Dime novels</td>\n",
       "            </tr>\n",
       "            <tr>\n",
       "                        <th id=\"T_e921f_level0_row13\" class=\"row_heading level0 row13\" >13</th>\n",
       "                        <td id=\"T_e921f_row13_col0\" class=\"data row13 col0\" >PG61514</td>\n",
       "                        <td id=\"T_e921f_row13_col1\" class=\"data row13 col1\" >Captain Sparkle, Pirate; Or, A Hard Man to Catch</td>\n",
       "                        <td id=\"T_e921f_row13_col2\" class=\"data row13 col2\" >Pirates -- Fiction</td>\n",
       "            </tr>\n",
       "            <tr>\n",
       "                        <th id=\"T_e921f_level0_row14\" class=\"row_heading level0 row14\" >14</th>\n",
       "                        <td id=\"T_e921f_row14_col0\" class=\"data row14 col0\" >PG61514</td>\n",
       "                        <td id=\"T_e921f_row14_col1\" class=\"data row14 col1\" >Captain Sparkle, Pirate; Or, A Hard Man to Catch</td>\n",
       "                        <td id=\"T_e921f_row14_col2\" class=\"data row14 col2\" >Detective and mystery stories</td>\n",
       "            </tr>\n",
       "            <tr>\n",
       "                        <th id=\"T_e921f_level0_row15\" class=\"row_heading level0 row15\" >15</th>\n",
       "                        <td id=\"T_e921f_row15_col0\" class=\"data row15 col0\" >PG61514</td>\n",
       "                        <td id=\"T_e921f_row15_col1\" class=\"data row15 col1\" >Captain Sparkle, Pirate; Or, A Hard Man to Catch</td>\n",
       "                        <td id=\"T_e921f_row15_col2\" class=\"data row15 col2\" >Yachts -- Fiction</td>\n",
       "            </tr>\n",
       "    </tbody></table>"
      ],
      "text/plain": [
       "<pandas.io.formats.style.Styler at 0x1ff07252fd0>"
      ]
     },
     "execution_count": 128,
     "metadata": {},
     "output_type": "execute_result"
    }
   ],
   "source": [
    "subjects = show_title_subjects(meta_list)\n",
    "subjects.style.set_properties(subset=['title'], **{'width': '500px'})"
   ]
  },
  {
   "cell_type": "code",
   "execution_count": null,
   "id": "5547673a",
   "metadata": {},
   "outputs": [],
   "source": []
  },
  {
   "cell_type": "code",
   "execution_count": null,
   "id": "2fe14a40",
   "metadata": {},
   "outputs": [],
   "source": []
  },
  {
   "cell_type": "code",
   "execution_count": null,
   "id": "aa1d1dbe",
   "metadata": {},
   "outputs": [],
   "source": []
  },
  {
   "cell_type": "code",
   "execution_count": null,
   "id": "109bc690",
   "metadata": {},
   "outputs": [],
   "source": []
  },
  {
   "cell_type": "code",
   "execution_count": null,
   "id": "2ab86f59",
   "metadata": {},
   "outputs": [],
   "source": []
  },
  {
   "cell_type": "code",
   "execution_count": null,
   "id": "3b490ba1",
   "metadata": {},
   "outputs": [],
   "source": []
  },
  {
   "cell_type": "code",
   "execution_count": null,
   "id": "37238ad0",
   "metadata": {},
   "outputs": [],
   "source": []
  },
  {
   "cell_type": "code",
   "execution_count": null,
   "id": "e0ba6163",
   "metadata": {},
   "outputs": [],
   "source": []
  },
  {
   "cell_type": "code",
   "execution_count": null,
   "id": "a26ed48d",
   "metadata": {},
   "outputs": [],
   "source": []
  },
  {
   "cell_type": "code",
   "execution_count": null,
   "id": "56c5007d",
   "metadata": {},
   "outputs": [],
   "source": []
  },
  {
   "cell_type": "code",
   "execution_count": 52,
   "id": "7d14a889",
   "metadata": {},
   "outputs": [
    {
     "data": {
      "text/html": [
       "<div>\n",
       "<style scoped>\n",
       "    .dataframe tbody tr th:only-of-type {\n",
       "        vertical-align: middle;\n",
       "    }\n",
       "\n",
       "    .dataframe tbody tr th {\n",
       "        vertical-align: top;\n",
       "    }\n",
       "\n",
       "    .dataframe thead th {\n",
       "        text-align: right;\n",
       "    }\n",
       "</style>\n",
       "<table border=\"1\" class=\"dataframe\">\n",
       "  <thead>\n",
       "    <tr style=\"text-align: right;\">\n",
       "      <th></th>\n",
       "      <th>pg_id</th>\n",
       "      <th>doc_index</th>\n",
       "      <th>topic_7</th>\n",
       "    </tr>\n",
       "  </thead>\n",
       "  <tbody>\n",
       "    <tr>\n",
       "      <th>270</th>\n",
       "      <td>PG35022</td>\n",
       "      <td>270</td>\n",
       "      <td>0.043936</td>\n",
       "    </tr>\n",
       "    <tr>\n",
       "      <th>155</th>\n",
       "      <td>PG2454</td>\n",
       "      <td>155</td>\n",
       "      <td>0.025555</td>\n",
       "    </tr>\n",
       "    <tr>\n",
       "      <th>475</th>\n",
       "      <td>PG5054</td>\n",
       "      <td>475</td>\n",
       "      <td>0.024952</td>\n",
       "    </tr>\n",
       "    <tr>\n",
       "      <th>242</th>\n",
       "      <td>PG33466</td>\n",
       "      <td>242</td>\n",
       "      <td>0.024703</td>\n",
       "    </tr>\n",
       "    <tr>\n",
       "      <th>454</th>\n",
       "      <td>PG47368</td>\n",
       "      <td>454</td>\n",
       "      <td>0.024630</td>\n",
       "    </tr>\n",
       "    <tr>\n",
       "      <th>635</th>\n",
       "      <td>PG61514</td>\n",
       "      <td>635</td>\n",
       "      <td>0.023913</td>\n",
       "    </tr>\n",
       "    <tr>\n",
       "      <th>640</th>\n",
       "      <td>PG62085</td>\n",
       "      <td>640</td>\n",
       "      <td>0.023161</td>\n",
       "    </tr>\n",
       "    <tr>\n",
       "      <th>382</th>\n",
       "      <td>PG41132</td>\n",
       "      <td>382</td>\n",
       "      <td>0.022515</td>\n",
       "    </tr>\n",
       "    <tr>\n",
       "      <th>478</th>\n",
       "      <td>PG5073</td>\n",
       "      <td>478</td>\n",
       "      <td>0.022321</td>\n",
       "    </tr>\n",
       "    <tr>\n",
       "      <th>486</th>\n",
       "      <td>PG5149</td>\n",
       "      <td>486</td>\n",
       "      <td>0.021870</td>\n",
       "    </tr>\n",
       "    <tr>\n",
       "      <th>480</th>\n",
       "      <td>PG5087</td>\n",
       "      <td>480</td>\n",
       "      <td>0.021763</td>\n",
       "    </tr>\n",
       "    <tr>\n",
       "      <th>661</th>\n",
       "      <td>PG65137</td>\n",
       "      <td>661</td>\n",
       "      <td>0.021349</td>\n",
       "    </tr>\n",
       "    <tr>\n",
       "      <th>488</th>\n",
       "      <td>PG5151</td>\n",
       "      <td>488</td>\n",
       "      <td>0.020231</td>\n",
       "    </tr>\n",
       "    <tr>\n",
       "      <th>500</th>\n",
       "      <td>PG5270</td>\n",
       "      <td>500</td>\n",
       "      <td>0.019682</td>\n",
       "    </tr>\n",
       "    <tr>\n",
       "      <th>637</th>\n",
       "      <td>PG61863</td>\n",
       "      <td>637</td>\n",
       "      <td>0.017307</td>\n",
       "    </tr>\n",
       "    <tr>\n",
       "      <th>105</th>\n",
       "      <td>PG1923</td>\n",
       "      <td>105</td>\n",
       "      <td>0.016427</td>\n",
       "    </tr>\n",
       "    <tr>\n",
       "      <th>471</th>\n",
       "      <td>PG5007</td>\n",
       "      <td>471</td>\n",
       "      <td>0.016111</td>\n",
       "    </tr>\n",
       "    <tr>\n",
       "      <th>223</th>\n",
       "      <td>PG32564</td>\n",
       "      <td>223</td>\n",
       "      <td>0.015868</td>\n",
       "    </tr>\n",
       "    <tr>\n",
       "      <th>147</th>\n",
       "      <td>PG2349</td>\n",
       "      <td>147</td>\n",
       "      <td>0.015641</td>\n",
       "    </tr>\n",
       "    <tr>\n",
       "      <th>65</th>\n",
       "      <td>PG1686</td>\n",
       "      <td>65</td>\n",
       "      <td>0.014718</td>\n",
       "    </tr>\n",
       "    <tr>\n",
       "      <th>650</th>\n",
       "      <td>PG63856</td>\n",
       "      <td>650</td>\n",
       "      <td>0.014214</td>\n",
       "    </tr>\n",
       "    <tr>\n",
       "      <th>432</th>\n",
       "      <td>PG45622</td>\n",
       "      <td>432</td>\n",
       "      <td>0.014010</td>\n",
       "    </tr>\n",
       "    <tr>\n",
       "      <th>392</th>\n",
       "      <td>PG41458</td>\n",
       "      <td>392</td>\n",
       "      <td>0.013965</td>\n",
       "    </tr>\n",
       "    <tr>\n",
       "      <th>568</th>\n",
       "      <td>PG56902</td>\n",
       "      <td>568</td>\n",
       "      <td>0.013163</td>\n",
       "    </tr>\n",
       "    <tr>\n",
       "      <th>656</th>\n",
       "      <td>PG64851</td>\n",
       "      <td>656</td>\n",
       "      <td>0.013063</td>\n",
       "    </tr>\n",
       "    <tr>\n",
       "      <th>649</th>\n",
       "      <td>PG63707</td>\n",
       "      <td>649</td>\n",
       "      <td>0.012758</td>\n",
       "    </tr>\n",
       "    <tr>\n",
       "      <th>490</th>\n",
       "      <td>PG5163</td>\n",
       "      <td>490</td>\n",
       "      <td>0.012115</td>\n",
       "    </tr>\n",
       "    <tr>\n",
       "      <th>653</th>\n",
       "      <td>PG64361</td>\n",
       "      <td>653</td>\n",
       "      <td>0.011598</td>\n",
       "    </tr>\n",
       "    <tr>\n",
       "      <th>588</th>\n",
       "      <td>PG57669</td>\n",
       "      <td>588</td>\n",
       "      <td>0.011542</td>\n",
       "    </tr>\n",
       "    <tr>\n",
       "      <th>534</th>\n",
       "      <td>PG55457</td>\n",
       "      <td>534</td>\n",
       "      <td>0.010788</td>\n",
       "    </tr>\n",
       "    <tr>\n",
       "      <th>53</th>\n",
       "      <td>PG16168</td>\n",
       "      <td>53</td>\n",
       "      <td>0.010501</td>\n",
       "    </tr>\n",
       "    <tr>\n",
       "      <th>476</th>\n",
       "      <td>PG50668</td>\n",
       "      <td>476</td>\n",
       "      <td>0.010359</td>\n",
       "    </tr>\n",
       "    <tr>\n",
       "      <th>481</th>\n",
       "      <td>PG5094</td>\n",
       "      <td>481</td>\n",
       "      <td>0.010270</td>\n",
       "    </tr>\n",
       "    <tr>\n",
       "      <th>42</th>\n",
       "      <td>PG1495</td>\n",
       "      <td>42</td>\n",
       "      <td>0.010087</td>\n",
       "    </tr>\n",
       "    <tr>\n",
       "      <th>678</th>\n",
       "      <td>PG8398</td>\n",
       "      <td>678</td>\n",
       "      <td>0.010055</td>\n",
       "    </tr>\n",
       "    <tr>\n",
       "      <th>418</th>\n",
       "      <td>PG43351</td>\n",
       "      <td>418</td>\n",
       "      <td>0.010039</td>\n",
       "    </tr>\n",
       "    <tr>\n",
       "      <th>1</th>\n",
       "      <td>PG10067</td>\n",
       "      <td>1</td>\n",
       "      <td>0.010021</td>\n",
       "    </tr>\n",
       "    <tr>\n",
       "      <th>609</th>\n",
       "      <td>PG59434</td>\n",
       "      <td>609</td>\n",
       "      <td>0.010016</td>\n",
       "    </tr>\n",
       "  </tbody>\n",
       "</table>\n",
       "</div>"
      ],
      "text/plain": [
       "       pg_id  doc_index   topic_7\n",
       "270  PG35022        270  0.043936\n",
       "155   PG2454        155  0.025555\n",
       "475   PG5054        475  0.024952\n",
       "242  PG33466        242  0.024703\n",
       "454  PG47368        454  0.024630\n",
       "635  PG61514        635  0.023913\n",
       "640  PG62085        640  0.023161\n",
       "382  PG41132        382  0.022515\n",
       "478   PG5073        478  0.022321\n",
       "486   PG5149        486  0.021870\n",
       "480   PG5087        480  0.021763\n",
       "661  PG65137        661  0.021349\n",
       "488   PG5151        488  0.020231\n",
       "500   PG5270        500  0.019682\n",
       "637  PG61863        637  0.017307\n",
       "105   PG1923        105  0.016427\n",
       "471   PG5007        471  0.016111\n",
       "223  PG32564        223  0.015868\n",
       "147   PG2349        147  0.015641\n",
       "65    PG1686         65  0.014718\n",
       "650  PG63856        650  0.014214\n",
       "432  PG45622        432  0.014010\n",
       "392  PG41458        392  0.013965\n",
       "568  PG56902        568  0.013163\n",
       "656  PG64851        656  0.013063\n",
       "649  PG63707        649  0.012758\n",
       "490   PG5163        490  0.012115\n",
       "653  PG64361        653  0.011598\n",
       "588  PG57669        588  0.011542\n",
       "534  PG55457        534  0.010788\n",
       "53   PG16168         53  0.010501\n",
       "476  PG50668        476  0.010359\n",
       "481   PG5094        481  0.010270\n",
       "42    PG1495         42  0.010087\n",
       "678   PG8398        678  0.010055\n",
       "418  PG43351        418  0.010039\n",
       "1    PG10067          1  0.010021\n",
       "609  PG59434        609  0.010016"
      ]
     },
     "execution_count": 52,
     "metadata": {},
     "output_type": "execute_result"
    }
   ],
   "source": [
    "topics_summary[topics_summary['topic_7']>.01][['pg_id','doc_index','topic_7']].sort_values('topic_7',ascending = False)"
   ]
  },
  {
   "cell_type": "code",
   "execution_count": null,
   "id": "c8a4bfc6",
   "metadata": {},
   "outputs": [],
   "source": [
    "# Some more topic visualization\n",
    "for t in range(model.num_topics):\n",
    "    plt.figure()\n",
    "    #plt.imshow(WordCloud().fit_words(model.show_topic(t, 200)))\n",
    "    plt.imshow(WordCloud(background_color=\"black\", prefer_horizontal = 1).fit_words(dict(model.show_topic(t, 50))))\n",
    "    plt.axis(\"off\")\n",
    "    plt.title(\"Topic #\" + str(t))\n",
    "    plt.show()"
   ]
  },
  {
   "cell_type": "code",
   "execution_count": null,
   "id": "a6e0ad00",
   "metadata": {},
   "outputs": [],
   "source": []
  },
  {
   "cell_type": "code",
   "execution_count": 31,
   "id": "9202f5f2",
   "metadata": {
    "collapsed": true
   },
   "outputs": [
    {
     "data": {
      "text/plain": [
       "[(2828, 0.11076207),\n",
       " (4148, 0.098153025),\n",
       " (3522, 0.07361885),\n",
       " (3538, 0.056315064),\n",
       " (6945, 0.049061053),\n",
       " (6602, 0.037216607),\n",
       " (7836, 0.035317667),\n",
       " (578, 0.03328636),\n",
       " (2592, 0.029514303),\n",
       " (2270, 0.025690861),\n",
       " (653, 0.021255221),\n",
       " (3528, 0.019889649),\n",
       " (2045, 0.01943372),\n",
       " (5954, 0.016984068),\n",
       " (2241, 0.016026124),\n",
       " (908, 0.01256019),\n",
       " (4138, 0.012291809),\n",
       " (5989, 0.011526088),\n",
       " (3529, 0.009798709),\n",
       " (884, 0.009622333)]"
      ]
     },
     "execution_count": 31,
     "metadata": {},
     "output_type": "execute_result"
    }
   ],
   "source": [
    "model.get_topic_terms(0, topn=20)"
   ]
  },
  {
   "cell_type": "code",
   "execution_count": 34,
   "id": "d85c4f3d",
   "metadata": {},
   "outputs": [
    {
     "data": {
      "text/plain": [
       "[(0, 0.009580477)]"
      ]
     },
     "execution_count": 34,
     "metadata": {},
     "output_type": "execute_result"
    }
   ],
   "source": [
    "model.get_term_topics(884, minimum_probability = .0001)"
   ]
  },
  {
   "cell_type": "code",
   "execution_count": 16,
   "id": "de8418e1",
   "metadata": {},
   "outputs": [
    {
     "data": {
      "text/plain": [
       "[(0,\n",
       "  '0.111*\"manager\" + 0.098*\"island\" + 0.074*\"hedge\" + 0.056*\"traveller\" + 0.049*\"conspiracy\" + 0.037*\"cliff\" + 0.035*\"tent\" + 0.033*\"stage\" + 0.030*\"ch_teau\" + 0.026*\"theatre\" + 0.021*\"bicycle\" + 0.020*\"stall\" + 0.019*\"idol\" + 0.017*\"contradiction\" + 0.016*\"masterpiece\" + 0.013*\"goose\" + 0.012*\"compose\" + 0.012*\"stepmother\" + 0.010*\"tracing\" + 0.010*\"visage\" + 0.009*\"shopman\" + 0.009*\"sock\" + 0.009*\"limitation\" + 0.009*\"predecessor\" + 0.008*\"plucky\" + 0.008*\"tiller\" + 0.008*\"discredit\" + 0.007*\"condemnation\" + 0.007*\"narrator\" + 0.006*\"considering\" + 0.006*\"audience\" + 0.005*\"failing\" + 0.005*\"necessary\" + 0.005*\"guileless\" + 0.005*\"deep\" + 0.004*\"quondam\" + 0.004*\"richness\" + 0.004*\"enlarge\" + 0.004*\"prodigy\" + 0.004*\"speak\" + 0.003*\"women\" + 0.003*\"designing\" + 0.003*\"advisable\" + 0.003*\"performance\" + 0.003*\"amenity\" + 0.003*\"deprecating\" + 0.002*\"finishing_touche\" + 0.002*\"bushel\" + 0.002*\"bookshelf\" + 0.002*\"alertness\"'),\n",
       " (8,\n",
       "  '0.107*\"machine\" + 0.058*\"agent\" + 0.037*\"franc\" + 0.035*\"bracelet\" + 0.034*\"government\" + 0.031*\"caf\" + 0.028*\"watchman\" + 0.022*\"ami\" + 0.021*\"deceive\" + 0.019*\"aeroplane\" + 0.016*\"uproar\" + 0.015*\"pauper\" + 0.014*\"dryly\" + 0.014*\"compensation\" + 0.014*\"factory\" + 0.013*\"smuggler\" + 0.012*\"wager\" + 0.012*\"deputy\" + 0.011*\"spendthrift\" + 0.011*\"ruby\" + 0.011*\"jailer\" + 0.011*\"spoilt\" + 0.010*\"commander\" + 0.009*\"divinity\" + 0.009*\"tyrant\" + 0.009*\"premium\" + 0.009*\"awoke\" + 0.009*\"amateur\" + 0.009*\"janitor\" + 0.008*\"coolness\" + 0.008*\"whim\" + 0.008*\"accumulation\" + 0.007*\"emblem\" + 0.007*\"watchfulness\" + 0.007*\"cleverer\" + 0.007*\"explosive\" + 0.007*\"betrayal\" + 0.007*\"forgetfulness\" + 0.007*\"hag\" + 0.007*\"evade\" + 0.007*\"ardour\" + 0.006*\"denunciation\" + 0.006*\"navy\" + 0.006*\"lessen\" + 0.006*\"foresaw\" + 0.005*\"meanness\" + 0.005*\"rendezvous\" + 0.005*\"torpedo\" + 0.005*\"fascinate\" + 0.005*\"sup\"'),\n",
       " (7,\n",
       "  '0.096*\"cell\" + 0.078*\"poison\" + 0.047*\"pin\" + 0.044*\"laboratory\" + 0.041*\"pirate\" + 0.036*\"explosion\" + 0.032*\"powder\" + 0.029*\"needle\" + 0.028*\"tube\" + 0.025*\"apparatus\" + 0.021*\"demon\" + 0.021*\"leap\" + 0.020*\"jeweller\" + 0.020*\"nest\" + 0.018*\"cage\" + 0.017*\"beggar\" + 0.016*\"test\" + 0.014*\"science\" + 0.013*\"bomb\" + 0.012*\"experiment\" + 0.011*\"workshop\" + 0.010*\"replace\" + 0.009*\"cosy\" + 0.009*\"grating\" + 0.009*\"bottle\" + 0.009*\"disc\" + 0.008*\"raid\" + 0.008*\"beetle\" + 0.007*\"restoration\" + 0.007*\"explorer\" + 0.007*\"breaker\" + 0.007*\"scrub\" + 0.006*\"inflection\" + 0.006*\"undo\" + 0.006*\"liquid\" + 0.006*\"drain\" + 0.005*\"lense\" + 0.005*\"comb\" + 0.005*\"flank\" + 0.005*\"reaction\" + 0.005*\"substance\" + 0.005*\"neatness\" + 0.005*\"ordering\" + 0.004*\"tottering\" + 0.004*\"humming\" + 0.004*\"battery\" + 0.004*\"substitution\" + 0.004*\"quantity\" + 0.004*\"staccato\" + 0.004*\"sacrilege\"'),\n",
       " (14,\n",
       "  '0.328*\"doctor\" + 0.097*\"nurse\" + 0.089*\"hospital\" + 0.078*\"secretary\" + 0.065*\"patient\" + 0.035*\"physician\" + 0.012*\"render\" + 0.010*\"ranch\" + 0.009*\"concert\" + 0.008*\"crawl\" + 0.008*\"suitor\" + 0.008*\"creep\" + 0.007*\"novelty\" + 0.007*\"liking\" + 0.007*\"hypocrisy\" + 0.007*\"invent\" + 0.006*\"asylum\" + 0.005*\"straightway\" + 0.005*\"surgery\" + 0.005*\"thereabout\" + 0.005*\"practice\" + 0.005*\"cursing\" + 0.005*\"dunno\" + 0.004*\"slaughter\" + 0.004*\"crib\" + 0.004*\"eagle\" + 0.004*\"fierce\" + 0.004*\"bed\" + 0.004*\"absent\" + 0.003*\"epithet\" + 0.003*\"sulky\" + 0.003*\"attack\" + 0.003*\"fooling\" + 0.003*\"blacker\" + 0.003*\"plump\" + 0.003*\"devise\" + 0.003*\"meddling\" + 0.003*\"dose\" + 0.003*\"mentioning\" + 0.003*\"immunity\" + 0.003*\"health\" + 0.002*\"accident\" + 0.002*\"patter\" + 0.002*\"avow\" + 0.002*\"exhortation\" + 0.002*\"helpless\" + 0.002*\"censure\" + 0.002*\"gunpowder\" + 0.002*\"feeble\" + 0.002*\"stealth\"'),\n",
       " (5,\n",
       "  '0.206*\"dog\" + 0.093*\"church\" + 0.056*\"niece\" + 0.049*\"tower\" + 0.047*\"prayer\" + 0.033*\"groan\" + 0.028*\"clergyman\" + 0.028*\"chimney\" + 0.020*\"hearth\" + 0.018*\"remorse\" + 0.017*\"shaft\" + 0.017*\"parson\" + 0.017*\"plank\" + 0.015*\"native\" + 0.014*\"log\" + 0.013*\"cheerfulness\" + 0.013*\"theme\" + 0.012*\"bowl\" + 0.010*\"glare\" + 0.010*\"poker\" + 0.008*\"philosopher\" + 0.008*\"investment\" + 0.007*\"pew\" + 0.007*\"schoolboy\" + 0.007*\"reverend\" + 0.007*\"cedar\" + 0.006*\"pan\" + 0.006*\"harness\" + 0.006*\"hymn\" + 0.006*\"cooking\" + 0.006*\"session\" + 0.005*\"popularity\" + 0.005*\"apparel\" + 0.005*\"flickering\" + 0.004*\"imprecation\" + 0.004*\"minister\" + 0.004*\"animal\" + 0.004*\"shyness\" + 0.004*\"downfall\" + 0.004*\"healing\" + 0.004*\"lime\" + 0.004*\"asperity\" + 0.004*\"twopence\" + 0.003*\"lark\" + 0.003*\"nightcap\" + 0.003*\"dicken\" + 0.003*\"fond\" + 0.003*\"jerk\" + 0.003*\"nearness\" + 0.003*\"axis\"'),\n",
       " (2,\n",
       "  '0.027*\"work\" + 0.027*\"fellow\" + 0.021*\"lot\" + 0.019*\"captain\" + 0.018*\"country\" + 0.018*\"people\" + 0.018*\"game\" + 0.016*\"bit\" + 0.014*\"city\" + 0.013*\"world\" + 0.012*\"company\" + 0.012*\"town\" + 0.011*\"party\" + 0.011*\"dollar\" + 0.011*\"job\" + 0.010*\"luck\" + 0.009*\"chap\" + 0.009*\"club\" + 0.009*\"guess\" + 0.008*\"deck\" + 0.008*\"play\" + 0.008*\"gun\" + 0.007*\"dozen\" + 0.007*\"hell\" + 0.007*\"cabin\" + 0.007*\"war\" + 0.007*\"soldier\" + 0.007*\"land\" + 0.007*\"vessel\" + 0.006*\"sailor\" + 0.006*\"fight\" + 0.006*\"fool\" + 0.006*\"store\" + 0.006*\"race\" + 0.006*\"member\" + 0.006*\"wheel\" + 0.006*\"crowd\" + 0.005*\"officer\" + 0.005*\"dance\" + 0.005*\"devil\" + 0.005*\"stuff\" + 0.005*\"count\" + 0.005*\"couple\" + 0.005*\"gang\" + 0.005*\"trip\" + 0.005*\"right\" + 0.004*\"trick\" + 0.004*\"business\" + 0.004*\"heir\" + 0.004*\"trail\"'),\n",
       " (17,\n",
       "  '0.038*\"mother\" + 0.038*\"heart\" + 0.034*\"wife\" + 0.033*\"child\" + 0.030*\"world\" + 0.025*\"brother\" + 0.023*\"husband\" + 0.018*\"daughter\" + 0.018*\"sister\" + 0.016*\"death\" + 0.015*\"family\" + 0.011*\"soul\" + 0.011*\"tear\" + 0.011*\"marriage\" + 0.010*\"spirit\" + 0.009*\"lover\" + 0.009*\"truth\" + 0.009*\"sake\" + 0.009*\"age\" + 0.009*\"care\" + 0.008*\"passion\" + 0.008*\"nature\" + 0.008*\"cousin\" + 0.007*\"happiness\" + 0.007*\"peace\" + 0.007*\"self\" + 0.006*\"beauty\" + 0.006*\"pride\" + 0.006*\"pity\" + 0.006*\"affection\" + 0.006*\"youth\" + 0.006*\"widow\" + 0.006*\"fortune\" + 0.006*\"bear\" + 0.006*\"law\" + 0.006*\"fault\" + 0.005*\"darling\" + 0.005*\"comfort\" + 0.005*\"grief\" + 0.005*\"mistress\" + 0.004*\"school\" + 0.004*\"sorrow\" + 0.004*\"pleasure\" + 0.004*\"mine\" + 0.004*\"hate\" + 0.004*\"emotion\" + 0.004*\"creature\" + 0.004*\"parent\" + 0.004*\"fate\" + 0.004*\"despair\"'),\n",
       " (3,\n",
       "  '0.018*\"glass\" + 0.017*\"chair\" + 0.017*\"hair\" + 0.014*\"dinner\" + 0.013*\"hat\" + 0.012*\"dress\" + 0.012*\"ring\" + 0.011*\"smile\" + 0.010*\"people\" + 0.009*\"gentleman\" + 0.009*\"guest\" + 0.009*\"tea\" + 0.009*\"clothe\" + 0.008*\"air\" + 0.008*\"bit\" + 0.008*\"half\" + 0.008*\"lady\" + 0.008*\"breakfast\" + 0.008*\"music\" + 0.007*\"coat\" + 0.007*\"flower\" + 0.007*\"cigarette\" + 0.007*\"round\" + 0.007*\"cigar\" + 0.007*\"_\" + 0.007*\"wonder\" + 0.007*\"drink\" + 0.006*\"minute\" + 0.006*\"suit\" + 0.006*\"bottle\" + 0.006*\"card\" + 0.006*\"pair\" + 0.006*\"fashion\" + 0.006*\"visitor\" + 0.005*\"couple\" + 0.005*\"seat\" + 0.005*\"wine\" + 0.005*\"colour\" + 0.005*\"cup\" + 0.005*\"hour\" + 0.005*\"ball\" + 0.005*\"pleasure\" + 0.005*\"coffee\" + 0.005*\"queer\" + 0.005*\"corner\" + 0.005*\"companion\" + 0.005*\"clock\" + 0.005*\"appearance\" + 0.005*\"dining\" + 0.004*\"supper\"'),\n",
       " (12,\n",
       "  '0.030*\"arm\" + 0.020*\"lip\" + 0.016*\"side\" + 0.015*\"silence\" + 0.015*\"figure\" + 0.014*\"shoulder\" + 0.013*\"fire\" + 0.013*\"chair\" + 0.013*\"air\" + 0.012*\"ear\" + 0.012*\"tone\" + 0.011*\"minute\" + 0.011*\"step\" + 0.010*\"fear\" + 0.010*\"finger\" + 0.010*\"glance\" + 0.009*\"breath\" + 0.009*\"blood\" + 0.008*\"cry\" + 0.008*\"heart\" + 0.007*\"half\" + 0.007*\"horror\" + 0.007*\"smile\" + 0.007*\"expression\" + 0.007*\"effort\" + 0.007*\"scene\" + 0.007*\"mouth\" + 0.006*\"movement\" + 0.006*\"terror\" + 0.006*\"strength\" + 0.006*\"touch\" + 0.006*\"danger\" + 0.005*\"shadow\" + 0.005*\"gaze\" + 0.005*\"nerve\" + 0.005*\"force\" + 0.005*\"saw\" + 0.005*\"laugh\" + 0.005*\"neck\" + 0.005*\"dream\" + 0.005*\"escape\" + 0.005*\"throat\" + 0.005*\"excitement\" + 0.005*\"breast\" + 0.005*\"body\" + 0.005*\"blow\" + 0.005*\"cheek\" + 0.005*\"fall\" + 0.005*\"man\" + 0.005*\"knee\"'),\n",
       " (15,\n",
       "  '0.020*\"course\" + 0.018*\"matter\" + 0.017*\"name\" + 0.015*\"fact\" + 0.014*\"question\" + 0.012*\"story\" + 0.011*\"reason\" + 0.011*\"person\" + 0.010*\"idea\" + 0.010*\"case\" + 0.009*\"doubt\" + 0.008*\"interest\" + 0.008*\"point\" + 0.008*\"business\" + 0.007*\"people\" + 0.007*\"affair\" + 0.006*\"position\" + 0.006*\"answer\" + 0.006*\"trouble\" + 0.006*\"uncle\" + 0.006*\"return\" + 0.006*\"gentleman\" + 0.006*\"order\" + 0.006*\"circumstance\" + 0.005*\"hour\" + 0.005*\"state\" + 0.005*\"character\" + 0.005*\"truth\" + 0.005*\"purpose\" + 0.005*\"suspicion\" + 0.005*\"conversation\" + 0.005*\"visit\" + 0.005*\"account\" + 0.005*\"work\" + 0.005*\"plan\" + 0.005*\"attention\" + 0.005*\"help\" + 0.005*\"mystery\" + 0.004*\"knowledge\" + 0.004*\"event\" + 0.004*\"deal\" + 0.004*\"leave\" + 0.004*\"difficulty\" + 0.004*\"opinion\" + 0.004*\"servant\" + 0.004*\"service\" + 0.004*\"effect\" + 0.004*\"surprise\" + 0.004*\"trust\" + 0.004*\"appearance\"')]"
      ]
     },
     "execution_count": 16,
     "metadata": {},
     "output_type": "execute_result"
    }
   ],
   "source": [
    "model.show_topics(num_words=50)"
   ]
  },
  {
   "cell_type": "code",
   "execution_count": 30,
   "id": "ce8e500b",
   "metadata": {
    "collapsed": true
   },
   "outputs": [
    {
     "data": {
      "text/plain": [
       "[('work', 0.026939858),\n",
       " ('fellow', 0.02650584),\n",
       " ('lot', 0.020576492),\n",
       " ('captain', 0.01899662),\n",
       " ('country', 0.018378364),\n",
       " ('people', 0.018180672),\n",
       " ('game', 0.017511971),\n",
       " ('bit', 0.015837248),\n",
       " ('city', 0.014247753),\n",
       " ('world', 0.012712098),\n",
       " ('company', 0.0124462405),\n",
       " ('town', 0.011849247),\n",
       " ('party', 0.011248954),\n",
       " ('dollar', 0.010929919),\n",
       " ('job', 0.010686318),\n",
       " ('luck', 0.009808063),\n",
       " ('chap', 0.009206914),\n",
       " ('club', 0.008768029),\n",
       " ('guess', 0.008693911),\n",
       " ('deck', 0.008483334)]"
      ]
     },
     "execution_count": 30,
     "metadata": {},
     "output_type": "execute_result"
    }
   ],
   "source": [
    "model.show_topic(2, topn=20)"
   ]
  },
  {
   "cell_type": "code",
   "execution_count": 6,
   "id": "4c4423aa",
   "metadata": {
    "collapsed": true
   },
   "outputs": [
    {
     "data": {
      "text/plain": [
       "['__class__',\n",
       " '__delattr__',\n",
       " '__dict__',\n",
       " '__dir__',\n",
       " '__doc__',\n",
       " '__eq__',\n",
       " '__format__',\n",
       " '__ge__',\n",
       " '__getattribute__',\n",
       " '__getitem__',\n",
       " '__gt__',\n",
       " '__hash__',\n",
       " '__ignoreds',\n",
       " '__init__',\n",
       " '__init_subclass__',\n",
       " '__le__',\n",
       " '__lt__',\n",
       " '__module__',\n",
       " '__ne__',\n",
       " '__new__',\n",
       " '__numpys',\n",
       " '__recursive_saveloads',\n",
       " '__reduce__',\n",
       " '__reduce_ex__',\n",
       " '__repr__',\n",
       " '__scipys',\n",
       " '__setattr__',\n",
       " '__sizeof__',\n",
       " '__str__',\n",
       " '__subclasshook__',\n",
       " '__weakref__',\n",
       " '_adapt_by_suffix',\n",
       " '_apply',\n",
       " '_load_specials',\n",
       " '_save_specials',\n",
       " '_smart_save',\n",
       " 'add_lifecycle_event',\n",
       " 'alpha',\n",
       " 'bound',\n",
       " 'callbacks',\n",
       " 'chunksize',\n",
       " 'clear',\n",
       " 'decay',\n",
       " 'diff',\n",
       " 'dispatcher',\n",
       " 'distributed',\n",
       " 'do_estep',\n",
       " 'do_mstep',\n",
       " 'dtype',\n",
       " 'eta',\n",
       " 'eval_every',\n",
       " 'expElogbeta',\n",
       " 'gamma_threshold',\n",
       " 'get_document_topics',\n",
       " 'get_term_topics',\n",
       " 'get_topic_terms',\n",
       " 'get_topics',\n",
       " 'id2word',\n",
       " 'inference',\n",
       " 'init_dir_prior',\n",
       " 'iterations',\n",
       " 'lifecycle_events',\n",
       " 'load',\n",
       " 'log_perplexity',\n",
       " 'minimum_phi_value',\n",
       " 'minimum_probability',\n",
       " 'num_terms',\n",
       " 'num_topics',\n",
       " 'num_updates',\n",
       " 'numworkers',\n",
       " 'offset',\n",
       " 'optimize_alpha',\n",
       " 'optimize_eta',\n",
       " 'passes',\n",
       " 'per_word_topics',\n",
       " 'print_topic',\n",
       " 'print_topics',\n",
       " 'random_state',\n",
       " 'save',\n",
       " 'show_topic',\n",
       " 'show_topics',\n",
       " 'state',\n",
       " 'sync_state',\n",
       " 'top_topics',\n",
       " 'update',\n",
       " 'update_alpha',\n",
       " 'update_eta',\n",
       " 'update_every']"
      ]
     },
     "execution_count": 6,
     "metadata": {},
     "output_type": "execute_result"
    }
   ],
   "source": [
    "dir(model)"
   ]
  },
  {
   "cell_type": "markdown",
   "id": "e65ad465",
   "metadata": {},
   "source": [
    "https://www.youtube.com/watch?v=oP3c1h8v2ZQ"
   ]
  },
  {
   "cell_type": "code",
   "execution_count": null,
   "id": "22530e62",
   "metadata": {},
   "outputs": [],
   "source": [
    "def format_topics_sentences(ldamodel=lda_model, corpus=corpus, texts=data):\n",
    "    # Init output\n",
    "    sent_topics_df = pd.DataFrame()\n",
    "\n",
    "    # Get main topic in each document\n",
    "    for i, row in enumerate(ldamodel[corpus]):\n",
    "        row = sorted(row, key=lambda x: (x[1]), reverse=True)\n",
    "        # Get the Dominant topic, Perc Contribution and Keywords for each document\n",
    "        for j, (topic_num, prop_topic) in enumerate(row):\n",
    "            if j == 0:  # => dominant topic\n",
    "                wp = ldamodel.show_topic(topic_num)\n",
    "                topic_keywords = \", \".join([word for word, prop in wp])\n",
    "                sent_topics_df = sent_topics_df.append(pd.Series([int(topic_num), round(prop_topic,4), topic_keywords]), ignore_index=True)\n",
    "            else:\n",
    "                break\n",
    "    sent_topics_df.columns = ['Dominant_Topic', 'Perc_Contribution', 'Topic_Keywords']\n",
    "\n",
    "    # Add original text to the end of the output\n",
    "    contents = pd.Series(texts)\n",
    "    sent_topics_df = pd.concat([sent_topics_df, contents], axis=1)\n",
    "    return(sent_topics_df)\n",
    "\n",
    "\n",
    "df_topic_sents_keywords = format_topics_sentences(ldamodel=optimal_model, corpus=corpus, texts=data)\n",
    "\n",
    "# Format\n",
    "df_dominant_topic = df_topic_sents_keywords.reset_index()\n",
    "df_dominant_topic.columns = ['Document_No', 'Dominant_Topic', 'Topic_Perc_Contrib', 'Keywords', 'Text']\n",
    "\n",
    "# Show\n",
    "df_dominant_topic.head(10)"
   ]
  },
  {
   "cell_type": "code",
   "execution_count": 44,
   "id": "7ccb6784",
   "metadata": {},
   "outputs": [
    {
     "data": {
      "image/png": "[encoded data removed]",
      "text/plain": [
       "<Figure size 864x576 with 1 Axes>"
      ]
     },
     "metadata": {
      "needs_background": "light"
     },
     "output_type": "display_data"
    }
   ],
   "source": [
    "topic = 1\n",
    "plt.figure(figsize=(12,8))\n",
    "plt.imshow(WordCloud(background_color=None).fit_words(dict(model.show_topic(topic, 200))))\n",
    "plt.axis(\"off\")\n",
    "plt.title(\"Letter \" + str(topic))\n",
    "#plt.savefig('../data/model_data/dm_lda_04/topic1_ship.png', bbox_inches='tight')\n"
   ]
  },
  {
   "cell_type": "code",
   "execution_count": null,
   "id": "2a058cef",
   "metadata": {},
   "outputs": [],
   "source": []
  }
 ],
 "metadata": {
  "kernelspec": {
   "display_name": "Python 3",
   "language": "python",
   "name": "python3"
  },
  "language_info": {
   "codemirror_mode": {
    "name": "ipython",
    "version": 3
   },
   "file_extension": ".py",
   "mimetype": "text/x-python",
   "name": "python",
   "nbconvert_exporter": "python",
   "pygments_lexer": "ipython3",
   "version": "3.8.3"
  }
 },
 "nbformat": 4,
 "nbformat_minor": 5
}
