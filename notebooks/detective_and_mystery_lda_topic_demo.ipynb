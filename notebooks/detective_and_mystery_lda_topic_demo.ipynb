{
 "cells": [
  {
   "cell_type": "markdown",
   "id": "21d67e03",
   "metadata": {},
   "source": [
    "# This notebooks reviews:\n",
    "\n",
    "#### Title selection by author\n",
    "#### Topics important to selected title\n",
    "#### Keywords important to selected topics\n",
    "#### Titles that most closely match selected title\n",
    "#### Metadata and subject list for title matches\n",
    "<br>\n",
    "<br>\n",
    "    "
   ]
  },
  {
   "cell_type": "markdown",
   "id": "3689c628",
   "metadata": {},
   "source": [
    "## Imports"
   ]
  },
  {
   "cell_type": "code",
   "execution_count": 124,
   "id": "0ee4e67d",
   "metadata": {},
   "outputs": [],
   "source": [
    "#Gensim\n",
    "import gensim\n",
    "import gensim.corpora as corpora\n",
    "#from gensim.utils import simple_preprocess\n",
    "#from gensim.models import CoherenceModel\n",
    "import pandas as pd\n",
    "import numpy as np\n",
    "import matplotlib.pyplot as plt\n",
    "%matplotlib inline\n",
    "from wordcloud import WordCloud\n",
    "import ipywidgets as widgets\n",
    "from ipywidgets import interact, interact_manual\n",
    "from sklearn.metrics.pairwise import euclidean_distances"
   ]
  },
  {
   "cell_type": "markdown",
   "id": "0574a998",
   "metadata": {},
   "source": [
    "## Load data frames and model\n",
    "LDA model using gensim generating 20 topics"
   ]
  },
  {
   "cell_type": "code",
   "execution_count": 60,
   "id": "ae17897b",
   "metadata": {},
   "outputs": [],
   "source": [
    "#Load metadata\n",
    "metadata = pd.read_csv('../data/model_data/dm_lda_04/metadata_lda04.csv')\n",
    "#Load model\n",
    "model = gensim.models.ldamodel.LdaModel.load('../data/model_data/dm_lda_04/model.lda04')\n",
    "#Load topics per book\n",
    "topics_summary = pd.read_csv('../data/model_data/dm_lda_04/topics_summary.csv')"
   ]
  },
  {
   "cell_type": "code",
   "execution_count": 122,
   "id": "e40cfdc0",
   "metadata": {},
   "outputs": [],
   "source": [
    "#Top 10 keywords per topic\n",
    "contents = []\n",
    "for t in range(model.num_topics):\n",
    "    wordlist = list(model.show_topic(t, 10))\n",
    "    for words in wordlist:\n",
    "        contents.append({'topic':t, 'keyword': words[0], 'importance': words[1]})\n",
    "keywords = pd.DataFrame(contents)\n"
   ]
  },
  {
   "cell_type": "markdown",
   "id": "808b467b",
   "metadata": {},
   "source": [
    "## A sample of topic importances by book"
   ]
  },
  {
   "cell_type": "code",
   "execution_count": 61,
   "id": "a7a8f33c",
   "metadata": {},
   "outputs": [
    {
     "data": {
      "text/html": [
       "<div>\n",
       "<style scoped>\n",
       "    .dataframe tbody tr th:only-of-type {\n",
       "        vertical-align: middle;\n",
       "    }\n",
       "\n",
       "    .dataframe tbody tr th {\n",
       "        vertical-align: top;\n",
       "    }\n",
       "\n",
       "    .dataframe thead th {\n",
       "        text-align: right;\n",
       "    }\n",
       "</style>\n",
       "<table border=\"1\" class=\"dataframe\">\n",
       "  <thead>\n",
       "    <tr style=\"text-align: right;\">\n",
       "      <th></th>\n",
       "      <th>pg_id</th>\n",
       "      <th>doc_index</th>\n",
       "      <th>topic_0</th>\n",
       "      <th>topic_1</th>\n",
       "      <th>topic_2</th>\n",
       "      <th>topic_3</th>\n",
       "      <th>topic_4</th>\n",
       "      <th>topic_5</th>\n",
       "      <th>topic_6</th>\n",
       "      <th>topic_7</th>\n",
       "      <th>...</th>\n",
       "      <th>topic_10</th>\n",
       "      <th>topic_11</th>\n",
       "      <th>topic_12</th>\n",
       "      <th>topic_13</th>\n",
       "      <th>topic_14</th>\n",
       "      <th>topic_15</th>\n",
       "      <th>topic_16</th>\n",
       "      <th>topic_17</th>\n",
       "      <th>topic_18</th>\n",
       "      <th>topic_19</th>\n",
       "    </tr>\n",
       "  </thead>\n",
       "  <tbody>\n",
       "    <tr>\n",
       "      <th>0</th>\n",
       "      <td>PG10057</td>\n",
       "      <td>0</td>\n",
       "      <td>0.002099</td>\n",
       "      <td>0.000328</td>\n",
       "      <td>0.075983</td>\n",
       "      <td>0.111052</td>\n",
       "      <td>0.006879</td>\n",
       "      <td>0.005760</td>\n",
       "      <td>0.027011</td>\n",
       "      <td>0.001206</td>\n",
       "      <td>...</td>\n",
       "      <td>0.021455</td>\n",
       "      <td>0.025291</td>\n",
       "      <td>0.130951</td>\n",
       "      <td>0.050395</td>\n",
       "      <td>0.009008</td>\n",
       "      <td>0.290606</td>\n",
       "      <td>0.043932</td>\n",
       "      <td>0.069184</td>\n",
       "      <td>0.067990</td>\n",
       "      <td>0.005143</td>\n",
       "    </tr>\n",
       "    <tr>\n",
       "      <th>1</th>\n",
       "      <td>PG10067</td>\n",
       "      <td>1</td>\n",
       "      <td>0.001172</td>\n",
       "      <td>0.006686</td>\n",
       "      <td>0.045212</td>\n",
       "      <td>0.063337</td>\n",
       "      <td>0.022029</td>\n",
       "      <td>0.000235</td>\n",
       "      <td>0.029929</td>\n",
       "      <td>0.010021</td>\n",
       "      <td>...</td>\n",
       "      <td>0.036915</td>\n",
       "      <td>0.105833</td>\n",
       "      <td>0.140186</td>\n",
       "      <td>0.046200</td>\n",
       "      <td>0.001156</td>\n",
       "      <td>0.248974</td>\n",
       "      <td>0.015719</td>\n",
       "      <td>0.046573</td>\n",
       "      <td>0.084675</td>\n",
       "      <td>0.005638</td>\n",
       "    </tr>\n",
       "    <tr>\n",
       "      <th>2</th>\n",
       "      <td>PG10082</td>\n",
       "      <td>2</td>\n",
       "      <td>0.002074</td>\n",
       "      <td>0.002601</td>\n",
       "      <td>0.031155</td>\n",
       "      <td>0.074460</td>\n",
       "      <td>0.021008</td>\n",
       "      <td>0.001451</td>\n",
       "      <td>0.015176</td>\n",
       "      <td>0.000000</td>\n",
       "      <td>...</td>\n",
       "      <td>0.039292</td>\n",
       "      <td>0.055678</td>\n",
       "      <td>0.079571</td>\n",
       "      <td>0.036918</td>\n",
       "      <td>0.000277</td>\n",
       "      <td>0.264973</td>\n",
       "      <td>0.024837</td>\n",
       "      <td>0.053421</td>\n",
       "      <td>0.067036</td>\n",
       "      <td>0.004741</td>\n",
       "    </tr>\n",
       "    <tr>\n",
       "      <th>3</th>\n",
       "      <td>PG10110</td>\n",
       "      <td>3</td>\n",
       "      <td>0.000000</td>\n",
       "      <td>0.000666</td>\n",
       "      <td>0.063976</td>\n",
       "      <td>0.100419</td>\n",
       "      <td>0.016767</td>\n",
       "      <td>0.001560</td>\n",
       "      <td>0.021734</td>\n",
       "      <td>0.000379</td>\n",
       "      <td>...</td>\n",
       "      <td>0.023847</td>\n",
       "      <td>0.063837</td>\n",
       "      <td>0.095575</td>\n",
       "      <td>0.060068</td>\n",
       "      <td>0.003135</td>\n",
       "      <td>0.261102</td>\n",
       "      <td>0.057441</td>\n",
       "      <td>0.052551</td>\n",
       "      <td>0.050909</td>\n",
       "      <td>0.015607</td>\n",
       "    </tr>\n",
       "    <tr>\n",
       "      <th>4</th>\n",
       "      <td>PG10377</td>\n",
       "      <td>4</td>\n",
       "      <td>0.000597</td>\n",
       "      <td>0.001484</td>\n",
       "      <td>0.025551</td>\n",
       "      <td>0.046569</td>\n",
       "      <td>0.022708</td>\n",
       "      <td>0.007099</td>\n",
       "      <td>0.006495</td>\n",
       "      <td>0.001405</td>\n",
       "      <td>...</td>\n",
       "      <td>0.006505</td>\n",
       "      <td>0.032670</td>\n",
       "      <td>0.147046</td>\n",
       "      <td>0.030050</td>\n",
       "      <td>0.005407</td>\n",
       "      <td>0.291932</td>\n",
       "      <td>0.031601</td>\n",
       "      <td>0.190689</td>\n",
       "      <td>0.066801</td>\n",
       "      <td>0.002084</td>\n",
       "    </tr>\n",
       "  </tbody>\n",
       "</table>\n",
       "<p>5 rows × 22 columns</p>\n",
       "</div>"
      ],
      "text/plain": [
       "     pg_id  doc_index   topic_0   topic_1   topic_2   topic_3   topic_4  \\\n",
       "0  PG10057          0  0.002099  0.000328  0.075983  0.111052  0.006879   \n",
       "1  PG10067          1  0.001172  0.006686  0.045212  0.063337  0.022029   \n",
       "2  PG10082          2  0.002074  0.002601  0.031155  0.074460  0.021008   \n",
       "3  PG10110          3  0.000000  0.000666  0.063976  0.100419  0.016767   \n",
       "4  PG10377          4  0.000597  0.001484  0.025551  0.046569  0.022708   \n",
       "\n",
       "    topic_5   topic_6   topic_7  ...  topic_10  topic_11  topic_12  topic_13  \\\n",
       "0  0.005760  0.027011  0.001206  ...  0.021455  0.025291  0.130951  0.050395   \n",
       "1  0.000235  0.029929  0.010021  ...  0.036915  0.105833  0.140186  0.046200   \n",
       "2  0.001451  0.015176  0.000000  ...  0.039292  0.055678  0.079571  0.036918   \n",
       "3  0.001560  0.021734  0.000379  ...  0.023847  0.063837  0.095575  0.060068   \n",
       "4  0.007099  0.006495  0.001405  ...  0.006505  0.032670  0.147046  0.030050   \n",
       "\n",
       "   topic_14  topic_15  topic_16  topic_17  topic_18  topic_19  \n",
       "0  0.009008  0.290606  0.043932  0.069184  0.067990  0.005143  \n",
       "1  0.001156  0.248974  0.015719  0.046573  0.084675  0.005638  \n",
       "2  0.000277  0.264973  0.024837  0.053421  0.067036  0.004741  \n",
       "3  0.003135  0.261102  0.057441  0.052551  0.050909  0.015607  \n",
       "4  0.005407  0.291932  0.031601  0.190689  0.066801  0.002084  \n",
       "\n",
       "[5 rows x 22 columns]"
      ]
     },
     "execution_count": 61,
     "metadata": {},
     "output_type": "execute_result"
    }
   ],
   "source": [
    "topics_summary.head()\n",
    "#metadata.head()"
   ]
  },
  {
   "cell_type": "markdown",
   "id": "08939f03",
   "metadata": {},
   "source": [
    "## Define functions"
   ]
  },
  {
   "cell_type": "code",
   "execution_count": 71,
   "id": "57f95269",
   "metadata": {},
   "outputs": [],
   "source": [
    "def booklist_topics(booklist):\n",
    "    topics_list = topics_summary[topics_summary['pg_id'].isin(booklist)].sum()\n",
    "    return(topics_list)"
   ]
  },
  {
   "cell_type": "code",
   "execution_count": 155,
   "id": "d606987c",
   "metadata": {},
   "outputs": [],
   "source": [
    "# Calculate euclidean distances for one book and output to a data frame\n",
    "def show_title_matches(X_index):\n",
    "    X = np.array([topics_summary.iloc[X_index,2:]])\n",
    "    #print(X)\n",
    "    contents = []\n",
    "    for doc_index in range(len(topics_summary)):\n",
    "        #print(doc_index)\n",
    "        Y = np.array([topics_summary.iloc[doc_index, 2:]])\n",
    "        dist = euclidean_distances(X,Y)[0][0]\n",
    "        contents.append([doc_index, dist])\n",
    "    doc_dist = pd.DataFrame(contents, columns = ['doc_index', 'dist'])\n",
    "    doc_dist.sort_values('dist').head()\n",
    "    doc_list = doc_dist.sort_values('dist').head()['doc_index'].to_list()\n",
    "    pg_id_list = topics_summary[topics_summary['doc_index'].isin(doc_list)]['pg_id'].to_list()\n",
    "    return metadata[metadata['id'].isin(pg_id_list)][['id','title','author','downloads','subjects']]"
   ]
  },
  {
   "cell_type": "code",
   "execution_count": 153,
   "id": "064d5f11",
   "metadata": {},
   "outputs": [],
   "source": [
    "# Expand multiple subjects per title into a long form list\n",
    "def show_title_subjects(meta_list):\n",
    "    contents = []\n",
    "    for row in meta_list.iterrows():\n",
    "        #print(row[1])\n",
    "        pg_id = (row[1][0])\n",
    "        title = (row[1][1])\n",
    "        subj = (row[1][4])\n",
    "        subj = subj.replace('{','')\n",
    "        subj = subj.replace('}','')\n",
    "        subj = subj.split(\"', \")\n",
    "        for item in subj:\n",
    "            contents.append({'pg_id':pg_id,'title':title,'subject':item.replace(\"'\",\"\")})\n",
    "    return pd.DataFrame(contents)"
   ]
  },
  {
   "cell_type": "markdown",
   "id": "f3deb6ed",
   "metadata": {},
   "source": [
    "## Titles by author"
   ]
  },
  {
   "cell_type": "code",
   "execution_count": 76,
   "id": "e610f99d",
   "metadata": {},
   "outputs": [
    {
     "data": {
      "application/vnd.jupyter.widget-view+json": {
       "model_id": "5d39d4b306324b8586410a40a6514ecb",
       "version_major": 2,
       "version_minor": 0
      },
      "text/plain": [
       "interactive(children=(Dropdown(description='author', options=('Adams, O. S.', 'Adams, Samuel Hopkins', 'Ainswo…"
      ]
     },
     "metadata": {},
     "output_type": "display_data"
    }
   ],
   "source": [
    "@interact\n",
    "def show_author_books(author = list(metadata['author'].sort_values().unique())):\n",
    "    return metadata[metadata['author']==author][['id','title','authoryearofbirth','downloads','subjects']]"
   ]
  },
  {
   "cell_type": "markdown",
   "id": "c34ed55c",
   "metadata": {},
   "source": [
    "## Topics important to selected title"
   ]
  },
  {
   "cell_type": "code",
   "execution_count": 171,
   "id": "ec8d3c0e",
   "metadata": {},
   "outputs": [
    {
     "data": {
      "text/html": [
       "<div>\n",
       "<style scoped>\n",
       "    .dataframe tbody tr th:only-of-type {\n",
       "        vertical-align: middle;\n",
       "    }\n",
       "\n",
       "    .dataframe tbody tr th {\n",
       "        vertical-align: top;\n",
       "    }\n",
       "\n",
       "    .dataframe thead th {\n",
       "        text-align: right;\n",
       "    }\n",
       "</style>\n",
       "<table border=\"1\" class=\"dataframe\">\n",
       "  <thead>\n",
       "    <tr style=\"text-align: right;\">\n",
       "      <th></th>\n",
       "      <th>importance</th>\n",
       "    </tr>\n",
       "  </thead>\n",
       "  <tbody>\n",
       "    <tr>\n",
       "      <th>topic_15</th>\n",
       "      <td>0.31571</td>\n",
       "    </tr>\n",
       "    <tr>\n",
       "      <th>topic_11</th>\n",
       "      <td>0.084347</td>\n",
       "    </tr>\n",
       "    <tr>\n",
       "      <th>topic_12</th>\n",
       "      <td>0.080243</td>\n",
       "    </tr>\n",
       "    <tr>\n",
       "      <th>topic_3</th>\n",
       "      <td>0.075901</td>\n",
       "    </tr>\n",
       "    <tr>\n",
       "      <th>topic_2</th>\n",
       "      <td>0.071252</td>\n",
       "    </tr>\n",
       "    <tr>\n",
       "      <th>topic_9</th>\n",
       "      <td>0.068211</td>\n",
       "    </tr>\n",
       "    <tr>\n",
       "      <th>topic_13</th>\n",
       "      <td>0.066681</td>\n",
       "    </tr>\n",
       "    <tr>\n",
       "      <th>topic_17</th>\n",
       "      <td>0.052701</td>\n",
       "    </tr>\n",
       "    <tr>\n",
       "      <th>topic_18</th>\n",
       "      <td>0.05087</td>\n",
       "    </tr>\n",
       "    <tr>\n",
       "      <th>topic_6</th>\n",
       "      <td>0.029921</td>\n",
       "    </tr>\n",
       "    <tr>\n",
       "      <th>topic_16</th>\n",
       "      <td>0.021012</td>\n",
       "    </tr>\n",
       "    <tr>\n",
       "      <th>topic_10</th>\n",
       "      <td>0.017803</td>\n",
       "    </tr>\n",
       "    <tr>\n",
       "      <th>topic_0</th>\n",
       "      <td>0.012156</td>\n",
       "    </tr>\n",
       "    <tr>\n",
       "      <th>topic_7</th>\n",
       "      <td>0.007666</td>\n",
       "    </tr>\n",
       "    <tr>\n",
       "      <th>topic_4</th>\n",
       "      <td>0.007162</td>\n",
       "    </tr>\n",
       "    <tr>\n",
       "      <th>topic_8</th>\n",
       "      <td>0.004332</td>\n",
       "    </tr>\n",
       "    <tr>\n",
       "      <th>topic_19</th>\n",
       "      <td>0.003841</td>\n",
       "    </tr>\n",
       "    <tr>\n",
       "      <th>topic_5</th>\n",
       "      <td>0.003319</td>\n",
       "    </tr>\n",
       "    <tr>\n",
       "      <th>topic_1</th>\n",
       "      <td>0.00104</td>\n",
       "    </tr>\n",
       "    <tr>\n",
       "      <th>topic_14</th>\n",
       "      <td>0.000419</td>\n",
       "    </tr>\n",
       "  </tbody>\n",
       "</table>\n",
       "</div>"
      ],
      "text/plain": [
       "         importance\n",
       "topic_15    0.31571\n",
       "topic_11   0.084347\n",
       "topic_12   0.080243\n",
       "topic_3    0.075901\n",
       "topic_2    0.071252\n",
       "topic_9    0.068211\n",
       "topic_13   0.066681\n",
       "topic_17   0.052701\n",
       "topic_18    0.05087\n",
       "topic_6    0.029921\n",
       "topic_16   0.021012\n",
       "topic_10   0.017803\n",
       "topic_0    0.012156\n",
       "topic_7    0.007666\n",
       "topic_4    0.007162\n",
       "topic_8    0.004332\n",
       "topic_19   0.003841\n",
       "topic_5    0.003319\n",
       "topic_1     0.00104\n",
       "topic_14   0.000419"
      ]
     },
     "execution_count": 171,
     "metadata": {},
     "output_type": "execute_result"
    }
   ],
   "source": [
    "booklist = ['PG2031']\n",
    "topics = pd.DataFrame(booklist_topics(booklist)[2:], columns = ['importance'])\n",
    "topics.sort_values('importance', ascending = False)"
   ]
  },
  {
   "cell_type": "markdown",
   "id": "c890990d",
   "metadata": {},
   "source": [
    "## Keywords important to selected topics"
   ]
  },
  {
   "cell_type": "code",
   "execution_count": 121,
   "id": "515fbd77",
   "metadata": {},
   "outputs": [
    {
     "data": {
      "application/vnd.jupyter.widget-view+json": {
       "model_id": "02185447eacc42b389f4f14156035a9e",
       "version_major": 2,
       "version_minor": 0
      },
      "text/plain": [
       "interactive(children=(Dropdown(description='topic', options=(0, 1, 2, 3, 4, 5, 6, 7, 8, 9, 10, 11, 12, 13, 14,…"
      ]
     },
     "metadata": {},
     "output_type": "display_data"
    }
   ],
   "source": [
    "@interact\n",
    "def show_topic_keywords(topic = list(keywords['topic'].sort_values().unique())):\n",
    "    return keywords[keywords['topic']==topic]\n",
    "# add word cloud and num_words selection"
   ]
  },
  {
   "cell_type": "markdown",
   "id": "e465bf51",
   "metadata": {},
   "source": [
    "## Titles that most closely match selected title"
   ]
  },
  {
   "cell_type": "code",
   "execution_count": 172,
   "id": "d105d32a",
   "metadata": {},
   "outputs": [
    {
     "data": {
      "text/html": [
       "<div>\n",
       "<style scoped>\n",
       "    .dataframe tbody tr th:only-of-type {\n",
       "        vertical-align: middle;\n",
       "    }\n",
       "\n",
       "    .dataframe tbody tr th {\n",
       "        vertical-align: top;\n",
       "    }\n",
       "\n",
       "    .dataframe thead th {\n",
       "        text-align: right;\n",
       "    }\n",
       "</style>\n",
       "<table border=\"1\" class=\"dataframe\">\n",
       "  <thead>\n",
       "    <tr style=\"text-align: right;\">\n",
       "      <th></th>\n",
       "      <th>id</th>\n",
       "      <th>title</th>\n",
       "      <th>author</th>\n",
       "      <th>downloads</th>\n",
       "    </tr>\n",
       "  </thead>\n",
       "  <tbody>\n",
       "    <tr>\n",
       "      <th>106</th>\n",
       "      <td>PG19369</td>\n",
       "      <td>The Triumphs of Eugène Valmont</td>\n",
       "      <td>Barr, Robert</td>\n",
       "      <td>92</td>\n",
       "    </tr>\n",
       "    <tr>\n",
       "      <th>119</th>\n",
       "      <td>PG2031</td>\n",
       "      <td>The Lock and Key Library: The Most Interesting...</td>\n",
       "      <td>NaN</td>\n",
       "      <td>110</td>\n",
       "    </tr>\n",
       "    <tr>\n",
       "      <th>432</th>\n",
       "      <td>PG45622</td>\n",
       "      <td>The Curved Blades</td>\n",
       "      <td>Wells, Carolyn</td>\n",
       "      <td>21</td>\n",
       "    </tr>\n",
       "    <tr>\n",
       "      <th>445</th>\n",
       "      <td>PG46462</td>\n",
       "      <td>Recollections of a Policeman</td>\n",
       "      <td>Russell, William</td>\n",
       "      <td>20</td>\n",
       "    </tr>\n",
       "    <tr>\n",
       "      <th>684</th>\n",
       "      <td>PG9300</td>\n",
       "      <td>Jennie Baxter, Journalist</td>\n",
       "      <td>Barr, Robert</td>\n",
       "      <td>24</td>\n",
       "    </tr>\n",
       "  </tbody>\n",
       "</table>\n",
       "</div>"
      ],
      "text/plain": [
       "          id                                              title  \\\n",
       "106  PG19369                     The Triumphs of Eugène Valmont   \n",
       "119   PG2031  The Lock and Key Library: The Most Interesting...   \n",
       "432  PG45622                                  The Curved Blades   \n",
       "445  PG46462                       Recollections of a Policeman   \n",
       "684   PG9300                          Jennie Baxter, Journalist   \n",
       "\n",
       "               author  downloads  \n",
       "106      Barr, Robert         92  \n",
       "119               NaN        110  \n",
       "432    Wells, Carolyn         21  \n",
       "445  Russell, William         20  \n",
       "684      Barr, Robert         24  "
      ]
     },
     "execution_count": 172,
     "metadata": {},
     "output_type": "execute_result"
    }
   ],
   "source": [
    "X_index = 119\n",
    "meta_list = show_title_matches(X_index)\n",
    "meta_list[['id','title','author','downloads']]"
   ]
  },
  {
   "cell_type": "markdown",
   "id": "3ace5b24",
   "metadata": {},
   "source": [
    "## Expand the subjects per title"
   ]
  },
  {
   "cell_type": "code",
   "execution_count": 173,
   "id": "b765ec26",
   "metadata": {},
   "outputs": [
    {
     "data": {
      "text/html": [
       "<style  type=\"text/css\" >\n",
       "#T_6ec29_row0_col1,#T_6ec29_row1_col1,#T_6ec29_row2_col1,#T_6ec29_row3_col1,#T_6ec29_row4_col1,#T_6ec29_row5_col1,#T_6ec29_row6_col1,#T_6ec29_row7_col1,#T_6ec29_row8_col1,#T_6ec29_row9_col1,#T_6ec29_row10_col1,#T_6ec29_row11_col1,#T_6ec29_row12_col1,#T_6ec29_row13_col1{\n",
       "            width:  500px;\n",
       "        }</style><table id=\"T_6ec29_\" ><thead>    <tr>        <th class=\"blank level0\" ></th>        <th class=\"col_heading level0 col0\" >pg_id</th>        <th class=\"col_heading level0 col1\" >title</th>        <th class=\"col_heading level0 col2\" >subject</th>    </tr></thead><tbody>\n",
       "                <tr>\n",
       "                        <th id=\"T_6ec29_level0_row0\" class=\"row_heading level0 row0\" >0</th>\n",
       "                        <td id=\"T_6ec29_row0_col0\" class=\"data row0 col0\" >PG19369</td>\n",
       "                        <td id=\"T_6ec29_row0_col1\" class=\"data row0 col1\" >The Triumphs of Eugène Valmont</td>\n",
       "                        <td id=\"T_6ec29_row0_col2\" class=\"data row0 col2\" >Humorous stories, English</td>\n",
       "            </tr>\n",
       "            <tr>\n",
       "                        <th id=\"T_6ec29_level0_row1\" class=\"row_heading level0 row1\" >1</th>\n",
       "                        <td id=\"T_6ec29_row1_col0\" class=\"data row1 col0\" >PG19369</td>\n",
       "                        <td id=\"T_6ec29_row1_col1\" class=\"data row1 col1\" >The Triumphs of Eugène Valmont</td>\n",
       "                        <td id=\"T_6ec29_row1_col2\" class=\"data row1 col2\" >French -- England -- London -- Fiction</td>\n",
       "            </tr>\n",
       "            <tr>\n",
       "                        <th id=\"T_6ec29_level0_row2\" class=\"row_heading level0 row2\" >2</th>\n",
       "                        <td id=\"T_6ec29_row2_col0\" class=\"data row2 col0\" >PG19369</td>\n",
       "                        <td id=\"T_6ec29_row2_col1\" class=\"data row2 col1\" >The Triumphs of Eugène Valmont</td>\n",
       "                        <td id=\"T_6ec29_row2_col2\" class=\"data row2 col2\" >Private investigators -- England -- London -- Fiction</td>\n",
       "            </tr>\n",
       "            <tr>\n",
       "                        <th id=\"T_6ec29_level0_row3\" class=\"row_heading level0 row3\" >3</th>\n",
       "                        <td id=\"T_6ec29_row3_col0\" class=\"data row3 col0\" >PG19369</td>\n",
       "                        <td id=\"T_6ec29_row3_col1\" class=\"data row3 col1\" >The Triumphs of Eugène Valmont</td>\n",
       "                        <td id=\"T_6ec29_row3_col2\" class=\"data row3 col2\" >Detective and mystery stories, English</td>\n",
       "            </tr>\n",
       "            <tr>\n",
       "                        <th id=\"T_6ec29_level0_row4\" class=\"row_heading level0 row4\" >4</th>\n",
       "                        <td id=\"T_6ec29_row4_col0\" class=\"data row4 col0\" >PG2031</td>\n",
       "                        <td id=\"T_6ec29_row4_col1\" class=\"data row4 col1\" >The Lock and Key Library: The Most Interesting Stories of All Nations: Real Life</td>\n",
       "                        <td id=\"T_6ec29_row4_col2\" class=\"data row4 col2\" >Detective and mystery stories</td>\n",
       "            </tr>\n",
       "            <tr>\n",
       "                        <th id=\"T_6ec29_level0_row5\" class=\"row_heading level0 row5\" >5</th>\n",
       "                        <td id=\"T_6ec29_row5_col0\" class=\"data row5 col0\" >PG2031</td>\n",
       "                        <td id=\"T_6ec29_row5_col1\" class=\"data row5 col1\" >The Lock and Key Library: The Most Interesting Stories of All Nations: Real Life</td>\n",
       "                        <td id=\"T_6ec29_row5_col2\" class=\"data row5 col2\" >Parapsychology</td>\n",
       "            </tr>\n",
       "            <tr>\n",
       "                        <th id=\"T_6ec29_level0_row6\" class=\"row_heading level0 row6\" >6</th>\n",
       "                        <td id=\"T_6ec29_row6_col0\" class=\"data row6 col0\" >PG2031</td>\n",
       "                        <td id=\"T_6ec29_row6_col1\" class=\"data row6 col1\" >The Lock and Key Library: The Most Interesting Stories of All Nations: Real Life</td>\n",
       "                        <td id=\"T_6ec29_row6_col2\" class=\"data row6 col2\" >Fiction</td>\n",
       "            </tr>\n",
       "            <tr>\n",
       "                        <th id=\"T_6ec29_level0_row7\" class=\"row_heading level0 row7\" >7</th>\n",
       "                        <td id=\"T_6ec29_row7_col0\" class=\"data row7 col0\" >PG45622</td>\n",
       "                        <td id=\"T_6ec29_row7_col1\" class=\"data row7 col1\" >The Curved Blades</td>\n",
       "                        <td id=\"T_6ec29_row7_col2\" class=\"data row7 col2\" >Detective and mystery stories</td>\n",
       "            </tr>\n",
       "            <tr>\n",
       "                        <th id=\"T_6ec29_level0_row8\" class=\"row_heading level0 row8\" >8</th>\n",
       "                        <td id=\"T_6ec29_row8_col0\" class=\"data row8 col0\" >PG45622</td>\n",
       "                        <td id=\"T_6ec29_row8_col1\" class=\"data row8 col1\" >The Curved Blades</td>\n",
       "                        <td id=\"T_6ec29_row8_col2\" class=\"data row8 col2\" >Fiction</td>\n",
       "            </tr>\n",
       "            <tr>\n",
       "                        <th id=\"T_6ec29_level0_row9\" class=\"row_heading level0 row9\" >9</th>\n",
       "                        <td id=\"T_6ec29_row9_col0\" class=\"data row9 col0\" >PG46462</td>\n",
       "                        <td id=\"T_6ec29_row9_col1\" class=\"data row9 col1\" >Recollections of a Policeman</td>\n",
       "                        <td id=\"T_6ec29_row9_col2\" class=\"data row9 col2\" >Police -- Fiction</td>\n",
       "            </tr>\n",
       "            <tr>\n",
       "                        <th id=\"T_6ec29_level0_row10\" class=\"row_heading level0 row10\" >10</th>\n",
       "                        <td id=\"T_6ec29_row10_col0\" class=\"data row10 col0\" >PG46462</td>\n",
       "                        <td id=\"T_6ec29_row10_col1\" class=\"data row10 col1\" >Recollections of a Policeman</td>\n",
       "                        <td id=\"T_6ec29_row10_col2\" class=\"data row10 col2\" >Short stories</td>\n",
       "            </tr>\n",
       "            <tr>\n",
       "                        <th id=\"T_6ec29_level0_row11\" class=\"row_heading level0 row11\" >11</th>\n",
       "                        <td id=\"T_6ec29_row11_col0\" class=\"data row11 col0\" >PG46462</td>\n",
       "                        <td id=\"T_6ec29_row11_col1\" class=\"data row11 col1\" >Recollections of a Policeman</td>\n",
       "                        <td id=\"T_6ec29_row11_col2\" class=\"data row11 col2\" >Detective and mystery stories, English</td>\n",
       "            </tr>\n",
       "            <tr>\n",
       "                        <th id=\"T_6ec29_level0_row12\" class=\"row_heading level0 row12\" >12</th>\n",
       "                        <td id=\"T_6ec29_row12_col0\" class=\"data row12 col0\" >PG9300</td>\n",
       "                        <td id=\"T_6ec29_row12_col1\" class=\"data row12 col1\" >Jennie Baxter, Journalist</td>\n",
       "                        <td id=\"T_6ec29_row12_col2\" class=\"data row12 col2\" >Women journalists -- Fiction</td>\n",
       "            </tr>\n",
       "            <tr>\n",
       "                        <th id=\"T_6ec29_level0_row13\" class=\"row_heading level0 row13\" >13</th>\n",
       "                        <td id=\"T_6ec29_row13_col0\" class=\"data row13 col0\" >PG9300</td>\n",
       "                        <td id=\"T_6ec29_row13_col1\" class=\"data row13 col1\" >Jennie Baxter, Journalist</td>\n",
       "                        <td id=\"T_6ec29_row13_col2\" class=\"data row13 col2\" >Detective and mystery stories</td>\n",
       "            </tr>\n",
       "    </tbody></table>"
      ],
      "text/plain": [
       "<pandas.io.formats.style.Styler at 0x1c4313b98e0>"
      ]
     },
     "execution_count": 173,
     "metadata": {},
     "output_type": "execute_result"
    }
   ],
   "source": [
    "subjects = show_title_subjects(meta_list)\n",
    "#subjects\n",
    "subjects.style.set_properties(subset=['title'], **{'width': '500px'})"
   ]
  },
  {
   "cell_type": "code",
   "execution_count": null,
   "id": "7a72f6e5",
   "metadata": {},
   "outputs": [],
   "source": []
  },
  {
   "cell_type": "code",
   "execution_count": null,
   "id": "45621dc2",
   "metadata": {},
   "outputs": [],
   "source": []
  },
  {
   "cell_type": "code",
   "execution_count": null,
   "id": "2587a436",
   "metadata": {},
   "outputs": [],
   "source": []
  },
  {
   "cell_type": "code",
   "execution_count": null,
   "id": "4c46c6e8",
   "metadata": {},
   "outputs": [],
   "source": []
  },
  {
   "cell_type": "code",
   "execution_count": null,
   "id": "3c5aa8cc",
   "metadata": {},
   "outputs": [],
   "source": []
  },
  {
   "cell_type": "code",
   "execution_count": null,
   "id": "d08c6c90",
   "metadata": {},
   "outputs": [],
   "source": []
  },
  {
   "cell_type": "code",
   "execution_count": null,
   "id": "59a4a830",
   "metadata": {},
   "outputs": [],
   "source": []
  },
  {
   "cell_type": "code",
   "execution_count": null,
   "id": "4d883026",
   "metadata": {},
   "outputs": [],
   "source": []
  },
  {
   "cell_type": "code",
   "execution_count": null,
   "id": "b120c545",
   "metadata": {},
   "outputs": [],
   "source": []
  },
  {
   "cell_type": "code",
   "execution_count": null,
   "id": "9b3784b5",
   "metadata": {},
   "outputs": [],
   "source": []
  },
  {
   "cell_type": "code",
   "execution_count": null,
   "id": "543a0579",
   "metadata": {},
   "outputs": [],
   "source": []
  },
  {
   "cell_type": "code",
   "execution_count": null,
   "id": "44ec760a",
   "metadata": {},
   "outputs": [],
   "source": []
  },
  {
   "cell_type": "code",
   "execution_count": null,
   "id": "12c979ab",
   "metadata": {},
   "outputs": [],
   "source": []
  },
  {
   "cell_type": "code",
   "execution_count": null,
   "id": "9d462e8f",
   "metadata": {},
   "outputs": [],
   "source": []
  },
  {
   "cell_type": "code",
   "execution_count": 31,
   "id": "9202f5f2",
   "metadata": {
    "collapsed": true
   },
   "outputs": [
    {
     "data": {
      "text/plain": [
       "[(2828, 0.11076207),\n",
       " (4148, 0.098153025),\n",
       " (3522, 0.07361885),\n",
       " (3538, 0.056315064),\n",
       " (6945, 0.049061053),\n",
       " (6602, 0.037216607),\n",
       " (7836, 0.035317667),\n",
       " (578, 0.03328636),\n",
       " (2592, 0.029514303),\n",
       " (2270, 0.025690861),\n",
       " (653, 0.021255221),\n",
       " (3528, 0.019889649),\n",
       " (2045, 0.01943372),\n",
       " (5954, 0.016984068),\n",
       " (2241, 0.016026124),\n",
       " (908, 0.01256019),\n",
       " (4138, 0.012291809),\n",
       " (5989, 0.011526088),\n",
       " (3529, 0.009798709),\n",
       " (884, 0.009622333)]"
      ]
     },
     "execution_count": 31,
     "metadata": {},
     "output_type": "execute_result"
    }
   ],
   "source": [
    "model.get_topic_terms(0, topn=20)"
   ]
  },
  {
   "cell_type": "code",
   "execution_count": 34,
   "id": "d85c4f3d",
   "metadata": {},
   "outputs": [
    {
     "data": {
      "text/plain": [
       "[(0, 0.009580477)]"
      ]
     },
     "execution_count": 34,
     "metadata": {},
     "output_type": "execute_result"
    }
   ],
   "source": [
    "model.get_term_topics(884, minimum_probability = .0001)"
   ]
  },
  {
   "cell_type": "code",
   "execution_count": 29,
   "id": "de8418e1",
   "metadata": {
    "collapsed": true
   },
   "outputs": [
    {
     "data": {
      "text/plain": [
       "[(0,\n",
       "  '0.111*\"manager\" + 0.098*\"island\" + 0.074*\"hedge\" + 0.056*\"traveller\" + 0.049*\"conspiracy\" + 0.037*\"cliff\" + 0.035*\"tent\" + 0.033*\"stage\" + 0.030*\"ch_teau\" + 0.026*\"theatre\" + 0.021*\"bicycle\" + 0.020*\"stall\" + 0.019*\"idol\" + 0.017*\"contradiction\" + 0.016*\"masterpiece\" + 0.013*\"goose\" + 0.012*\"compose\" + 0.012*\"stepmother\" + 0.010*\"tracing\" + 0.010*\"visage\"'),\n",
       " (8,\n",
       "  '0.107*\"machine\" + 0.058*\"agent\" + 0.037*\"franc\" + 0.035*\"bracelet\" + 0.034*\"government\" + 0.031*\"caf\" + 0.028*\"watchman\" + 0.022*\"ami\" + 0.021*\"deceive\" + 0.019*\"aeroplane\" + 0.016*\"uproar\" + 0.015*\"pauper\" + 0.014*\"dryly\" + 0.014*\"compensation\" + 0.014*\"factory\" + 0.013*\"smuggler\" + 0.012*\"wager\" + 0.012*\"deputy\" + 0.011*\"spendthrift\" + 0.011*\"ruby\"'),\n",
       " (7,\n",
       "  '0.096*\"cell\" + 0.078*\"poison\" + 0.047*\"pin\" + 0.044*\"laboratory\" + 0.041*\"pirate\" + 0.036*\"explosion\" + 0.032*\"powder\" + 0.029*\"needle\" + 0.028*\"tube\" + 0.025*\"apparatus\" + 0.021*\"demon\" + 0.021*\"leap\" + 0.020*\"jeweller\" + 0.020*\"nest\" + 0.018*\"cage\" + 0.017*\"beggar\" + 0.016*\"test\" + 0.014*\"science\" + 0.013*\"bomb\" + 0.012*\"experiment\"'),\n",
       " (14,\n",
       "  '0.328*\"doctor\" + 0.097*\"nurse\" + 0.089*\"hospital\" + 0.078*\"secretary\" + 0.065*\"patient\" + 0.035*\"physician\" + 0.012*\"render\" + 0.010*\"ranch\" + 0.009*\"concert\" + 0.008*\"crawl\" + 0.008*\"suitor\" + 0.008*\"creep\" + 0.007*\"novelty\" + 0.007*\"liking\" + 0.007*\"hypocrisy\" + 0.007*\"invent\" + 0.006*\"asylum\" + 0.005*\"straightway\" + 0.005*\"surgery\" + 0.005*\"thereabout\"'),\n",
       " (5,\n",
       "  '0.206*\"dog\" + 0.093*\"church\" + 0.056*\"niece\" + 0.049*\"tower\" + 0.047*\"prayer\" + 0.033*\"groan\" + 0.028*\"clergyman\" + 0.028*\"chimney\" + 0.020*\"hearth\" + 0.018*\"remorse\" + 0.017*\"shaft\" + 0.017*\"parson\" + 0.017*\"plank\" + 0.015*\"native\" + 0.014*\"log\" + 0.013*\"cheerfulness\" + 0.013*\"theme\" + 0.012*\"bowl\" + 0.010*\"glare\" + 0.010*\"poker\"'),\n",
       " (2,\n",
       "  '0.027*\"work\" + 0.027*\"fellow\" + 0.021*\"lot\" + 0.019*\"captain\" + 0.018*\"country\" + 0.018*\"people\" + 0.018*\"game\" + 0.016*\"bit\" + 0.014*\"city\" + 0.013*\"world\" + 0.012*\"company\" + 0.012*\"town\" + 0.011*\"party\" + 0.011*\"dollar\" + 0.011*\"job\" + 0.010*\"luck\" + 0.009*\"chap\" + 0.009*\"club\" + 0.009*\"guess\" + 0.008*\"deck\"'),\n",
       " (17,\n",
       "  '0.038*\"mother\" + 0.038*\"heart\" + 0.034*\"wife\" + 0.033*\"child\" + 0.030*\"world\" + 0.025*\"brother\" + 0.023*\"husband\" + 0.018*\"daughter\" + 0.018*\"sister\" + 0.016*\"death\" + 0.015*\"family\" + 0.011*\"soul\" + 0.011*\"tear\" + 0.011*\"marriage\" + 0.010*\"spirit\" + 0.009*\"lover\" + 0.009*\"truth\" + 0.009*\"sake\" + 0.009*\"age\" + 0.009*\"care\"'),\n",
       " (3,\n",
       "  '0.018*\"glass\" + 0.017*\"chair\" + 0.017*\"hair\" + 0.014*\"dinner\" + 0.013*\"hat\" + 0.012*\"dress\" + 0.012*\"ring\" + 0.011*\"smile\" + 0.010*\"people\" + 0.009*\"gentleman\" + 0.009*\"guest\" + 0.009*\"tea\" + 0.009*\"clothe\" + 0.008*\"air\" + 0.008*\"bit\" + 0.008*\"half\" + 0.008*\"lady\" + 0.008*\"breakfast\" + 0.008*\"music\" + 0.007*\"coat\"'),\n",
       " (12,\n",
       "  '0.030*\"arm\" + 0.020*\"lip\" + 0.016*\"side\" + 0.015*\"silence\" + 0.015*\"figure\" + 0.014*\"shoulder\" + 0.013*\"fire\" + 0.013*\"chair\" + 0.013*\"air\" + 0.012*\"ear\" + 0.012*\"tone\" + 0.011*\"minute\" + 0.011*\"step\" + 0.010*\"fear\" + 0.010*\"finger\" + 0.010*\"glance\" + 0.009*\"breath\" + 0.009*\"blood\" + 0.008*\"cry\" + 0.008*\"heart\"'),\n",
       " (15,\n",
       "  '0.020*\"course\" + 0.018*\"matter\" + 0.017*\"name\" + 0.015*\"fact\" + 0.014*\"question\" + 0.012*\"story\" + 0.011*\"reason\" + 0.011*\"person\" + 0.010*\"idea\" + 0.010*\"case\" + 0.009*\"doubt\" + 0.008*\"interest\" + 0.008*\"point\" + 0.008*\"business\" + 0.007*\"people\" + 0.007*\"affair\" + 0.006*\"position\" + 0.006*\"answer\" + 0.006*\"trouble\" + 0.006*\"uncle\"')]"
      ]
     },
     "execution_count": 29,
     "metadata": {},
     "output_type": "execute_result"
    }
   ],
   "source": [
    "model.show_topics(num_words=20)"
   ]
  },
  {
   "cell_type": "code",
   "execution_count": 30,
   "id": "ce8e500b",
   "metadata": {
    "collapsed": true
   },
   "outputs": [
    {
     "data": {
      "text/plain": [
       "[('work', 0.026939858),\n",
       " ('fellow', 0.02650584),\n",
       " ('lot', 0.020576492),\n",
       " ('captain', 0.01899662),\n",
       " ('country', 0.018378364),\n",
       " ('people', 0.018180672),\n",
       " ('game', 0.017511971),\n",
       " ('bit', 0.015837248),\n",
       " ('city', 0.014247753),\n",
       " ('world', 0.012712098),\n",
       " ('company', 0.0124462405),\n",
       " ('town', 0.011849247),\n",
       " ('party', 0.011248954),\n",
       " ('dollar', 0.010929919),\n",
       " ('job', 0.010686318),\n",
       " ('luck', 0.009808063),\n",
       " ('chap', 0.009206914),\n",
       " ('club', 0.008768029),\n",
       " ('guess', 0.008693911),\n",
       " ('deck', 0.008483334)]"
      ]
     },
     "execution_count": 30,
     "metadata": {},
     "output_type": "execute_result"
    }
   ],
   "source": [
    "model.show_topic(2, topn=20)"
   ]
  },
  {
   "cell_type": "code",
   "execution_count": 6,
   "id": "4c4423aa",
   "metadata": {
    "collapsed": true
   },
   "outputs": [
    {
     "data": {
      "text/plain": [
       "['__class__',\n",
       " '__delattr__',\n",
       " '__dict__',\n",
       " '__dir__',\n",
       " '__doc__',\n",
       " '__eq__',\n",
       " '__format__',\n",
       " '__ge__',\n",
       " '__getattribute__',\n",
       " '__getitem__',\n",
       " '__gt__',\n",
       " '__hash__',\n",
       " '__ignoreds',\n",
       " '__init__',\n",
       " '__init_subclass__',\n",
       " '__le__',\n",
       " '__lt__',\n",
       " '__module__',\n",
       " '__ne__',\n",
       " '__new__',\n",
       " '__numpys',\n",
       " '__recursive_saveloads',\n",
       " '__reduce__',\n",
       " '__reduce_ex__',\n",
       " '__repr__',\n",
       " '__scipys',\n",
       " '__setattr__',\n",
       " '__sizeof__',\n",
       " '__str__',\n",
       " '__subclasshook__',\n",
       " '__weakref__',\n",
       " '_adapt_by_suffix',\n",
       " '_apply',\n",
       " '_load_specials',\n",
       " '_save_specials',\n",
       " '_smart_save',\n",
       " 'add_lifecycle_event',\n",
       " 'alpha',\n",
       " 'bound',\n",
       " 'callbacks',\n",
       " 'chunksize',\n",
       " 'clear',\n",
       " 'decay',\n",
       " 'diff',\n",
       " 'dispatcher',\n",
       " 'distributed',\n",
       " 'do_estep',\n",
       " 'do_mstep',\n",
       " 'dtype',\n",
       " 'eta',\n",
       " 'eval_every',\n",
       " 'expElogbeta',\n",
       " 'gamma_threshold',\n",
       " 'get_document_topics',\n",
       " 'get_term_topics',\n",
       " 'get_topic_terms',\n",
       " 'get_topics',\n",
       " 'id2word',\n",
       " 'inference',\n",
       " 'init_dir_prior',\n",
       " 'iterations',\n",
       " 'lifecycle_events',\n",
       " 'load',\n",
       " 'log_perplexity',\n",
       " 'minimum_phi_value',\n",
       " 'minimum_probability',\n",
       " 'num_terms',\n",
       " 'num_topics',\n",
       " 'num_updates',\n",
       " 'numworkers',\n",
       " 'offset',\n",
       " 'optimize_alpha',\n",
       " 'optimize_eta',\n",
       " 'passes',\n",
       " 'per_word_topics',\n",
       " 'print_topic',\n",
       " 'print_topics',\n",
       " 'random_state',\n",
       " 'save',\n",
       " 'show_topic',\n",
       " 'show_topics',\n",
       " 'state',\n",
       " 'sync_state',\n",
       " 'top_topics',\n",
       " 'update',\n",
       " 'update_alpha',\n",
       " 'update_eta',\n",
       " 'update_every']"
      ]
     },
     "execution_count": 6,
     "metadata": {},
     "output_type": "execute_result"
    }
   ],
   "source": [
    "dir(model)"
   ]
  },
  {
   "cell_type": "markdown",
   "id": "41840552",
   "metadata": {},
   "source": [
    "https://www.youtube.com/watch?v=oP3c1h8v2ZQ"
   ]
  },
  {
   "cell_type": "code",
   "execution_count": null,
   "id": "22530e62",
   "metadata": {},
   "outputs": [],
   "source": [
    "def format_topics_sentences(ldamodel=lda_model, corpus=corpus, texts=data):\n",
    "    # Init output\n",
    "    sent_topics_df = pd.DataFrame()\n",
    "\n",
    "    # Get main topic in each document\n",
    "    for i, row in enumerate(ldamodel[corpus]):\n",
    "        row = sorted(row, key=lambda x: (x[1]), reverse=True)\n",
    "        # Get the Dominant topic, Perc Contribution and Keywords for each document\n",
    "        for j, (topic_num, prop_topic) in enumerate(row):\n",
    "            if j == 0:  # => dominant topic\n",
    "                wp = ldamodel.show_topic(topic_num)\n",
    "                topic_keywords = \", \".join([word for word, prop in wp])\n",
    "                sent_topics_df = sent_topics_df.append(pd.Series([int(topic_num), round(prop_topic,4), topic_keywords]), ignore_index=True)\n",
    "            else:\n",
    "                break\n",
    "    sent_topics_df.columns = ['Dominant_Topic', 'Perc_Contribution', 'Topic_Keywords']\n",
    "\n",
    "    # Add original text to the end of the output\n",
    "    contents = pd.Series(texts)\n",
    "    sent_topics_df = pd.concat([sent_topics_df, contents], axis=1)\n",
    "    return(sent_topics_df)\n",
    "\n",
    "\n",
    "df_topic_sents_keywords = format_topics_sentences(ldamodel=optimal_model, corpus=corpus, texts=data)\n",
    "\n",
    "# Format\n",
    "df_dominant_topic = df_topic_sents_keywords.reset_index()\n",
    "df_dominant_topic.columns = ['Document_No', 'Dominant_Topic', 'Topic_Perc_Contrib', 'Keywords', 'Text']\n",
    "\n",
    "# Show\n",
    "df_dominant_topic.head(10)"
   ]
  }
 ],
 "metadata": {
  "kernelspec": {
   "display_name": "Python 3",
   "language": "python",
   "name": "python3"
  },
  "language_info": {
   "codemirror_mode": {
    "name": "ipython",
    "version": 3
   },
   "file_extension": ".py",
   "mimetype": "text/x-python",
   "name": "python",
   "nbconvert_exporter": "python",
   "pygments_lexer": "ipython3",
   "version": "3.8.3"
  }
 },
 "nbformat": 4,
 "nbformat_minor": 5
}
