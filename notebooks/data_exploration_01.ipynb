{
 "cells": [
  {
   "cell_type": "code",
   "execution_count": 2,
   "id": "e5eb339d",
   "metadata": {},
   "outputs": [],
   "source": [
    "import pandas as pd\n",
    "import numpy as np"
   ]
  },
  {
   "cell_type": "code",
   "execution_count": 9,
   "id": "0388d83d",
   "metadata": {},
   "outputs": [],
   "source": [
    "metadata = pd.read_csv('../data/metdata/SPGC-metadata-2018-07-18.csv')"
   ]
  },
  {
   "cell_type": "code",
   "execution_count": 4,
   "id": "5713e552",
   "metadata": {},
   "outputs": [
    {
     "name": "stdout",
     "output_type": "stream",
     "text": [
      "<class 'pandas.core.frame.DataFrame'>\n",
      "RangeIndex: 57713 entries, 0 to 57712\n",
      "Data columns (total 9 columns):\n",
      " #   Column             Non-Null Count  Dtype  \n",
      "---  ------             --------------  -----  \n",
      " 0   id                 57713 non-null  object \n",
      " 1   title              57642 non-null  object \n",
      " 2   author             55451 non-null  object \n",
      " 3   authoryearofbirth  42946 non-null  float64\n",
      " 4   authoryearofdeath  41850 non-null  float64\n",
      " 5   language           57711 non-null  object \n",
      " 6   downloads          57711 non-null  float64\n",
      " 7   subjects           57713 non-null  object \n",
      " 8   type               57713 non-null  object \n",
      "dtypes: float64(3), object(6)\n",
      "memory usage: 4.0+ MB\n"
     ]
    }
   ],
   "source": [
    "metadata.info()"
   ]
  },
  {
   "cell_type": "code",
   "execution_count": 5,
   "id": "8feb3e7a",
   "metadata": {},
   "outputs": [
    {
     "data": {
      "text/html": [
       "<div>\n",
       "<style scoped>\n",
       "    .dataframe tbody tr th:only-of-type {\n",
       "        vertical-align: middle;\n",
       "    }\n",
       "\n",
       "    .dataframe tbody tr th {\n",
       "        vertical-align: top;\n",
       "    }\n",
       "\n",
       "    .dataframe thead th {\n",
       "        text-align: right;\n",
       "    }\n",
       "</style>\n",
       "<table border=\"1\" class=\"dataframe\">\n",
       "  <thead>\n",
       "    <tr style=\"text-align: right;\">\n",
       "      <th></th>\n",
       "      <th>id</th>\n",
       "      <th>title</th>\n",
       "      <th>author</th>\n",
       "      <th>authoryearofbirth</th>\n",
       "      <th>authoryearofdeath</th>\n",
       "      <th>language</th>\n",
       "      <th>downloads</th>\n",
       "      <th>subjects</th>\n",
       "      <th>type</th>\n",
       "    </tr>\n",
       "  </thead>\n",
       "  <tbody>\n",
       "    <tr>\n",
       "      <th>0</th>\n",
       "      <td>PG0</td>\n",
       "      <td>NaN</td>\n",
       "      <td>NaN</td>\n",
       "      <td>NaN</td>\n",
       "      <td>NaN</td>\n",
       "      <td>NaN</td>\n",
       "      <td>NaN</td>\n",
       "      <td>set()</td>\n",
       "      <td>Text</td>\n",
       "    </tr>\n",
       "    <tr>\n",
       "      <th>1</th>\n",
       "      <td>PG1</td>\n",
       "      <td>The Declaration of Independence of the United ...</td>\n",
       "      <td>Jefferson, Thomas</td>\n",
       "      <td>1743.0</td>\n",
       "      <td>1826.0</td>\n",
       "      <td>['en']</td>\n",
       "      <td>604.0</td>\n",
       "      <td>{'United States -- History -- Revolution, 1775...</td>\n",
       "      <td>Text</td>\n",
       "    </tr>\n",
       "    <tr>\n",
       "      <th>2</th>\n",
       "      <td>PG2</td>\n",
       "      <td>The United States Bill of Rights: The Ten Orig...</td>\n",
       "      <td>United States</td>\n",
       "      <td>NaN</td>\n",
       "      <td>NaN</td>\n",
       "      <td>['en']</td>\n",
       "      <td>158.0</td>\n",
       "      <td>{'Civil rights -- United States -- Sources', '...</td>\n",
       "      <td>Text</td>\n",
       "    </tr>\n",
       "    <tr>\n",
       "      <th>3</th>\n",
       "      <td>PG3</td>\n",
       "      <td>John F. Kennedy's Inaugural Address</td>\n",
       "      <td>Kennedy, John F. (John Fitzgerald)</td>\n",
       "      <td>1917.0</td>\n",
       "      <td>1963.0</td>\n",
       "      <td>['en']</td>\n",
       "      <td>28.0</td>\n",
       "      <td>{'Presidents -- United States -- Inaugural add...</td>\n",
       "      <td>Text</td>\n",
       "    </tr>\n",
       "    <tr>\n",
       "      <th>4</th>\n",
       "      <td>PG4</td>\n",
       "      <td>Lincoln's Gettysburg Address: Given November 1...</td>\n",
       "      <td>Lincoln, Abraham</td>\n",
       "      <td>1809.0</td>\n",
       "      <td>1865.0</td>\n",
       "      <td>['en']</td>\n",
       "      <td>55.0</td>\n",
       "      <td>{'Consecration of cemeteries -- Pennsylvania -...</td>\n",
       "      <td>Text</td>\n",
       "    </tr>\n",
       "  </tbody>\n",
       "</table>\n",
       "</div>"
      ],
      "text/plain": [
       "    id                                              title  \\\n",
       "0  PG0                                                NaN   \n",
       "1  PG1  The Declaration of Independence of the United ...   \n",
       "2  PG2  The United States Bill of Rights: The Ten Orig...   \n",
       "3  PG3                John F. Kennedy's Inaugural Address   \n",
       "4  PG4  Lincoln's Gettysburg Address: Given November 1...   \n",
       "\n",
       "                               author  authoryearofbirth  authoryearofdeath  \\\n",
       "0                                 NaN                NaN                NaN   \n",
       "1                   Jefferson, Thomas             1743.0             1826.0   \n",
       "2                       United States                NaN                NaN   \n",
       "3  Kennedy, John F. (John Fitzgerald)             1917.0             1963.0   \n",
       "4                    Lincoln, Abraham             1809.0             1865.0   \n",
       "\n",
       "  language  downloads                                           subjects  type  \n",
       "0      NaN        NaN                                              set()  Text  \n",
       "1   ['en']      604.0  {'United States -- History -- Revolution, 1775...  Text  \n",
       "2   ['en']      158.0  {'Civil rights -- United States -- Sources', '...  Text  \n",
       "3   ['en']       28.0  {'Presidents -- United States -- Inaugural add...  Text  \n",
       "4   ['en']       55.0  {'Consecration of cemeteries -- Pennsylvania -...  Text  "
      ]
     },
     "execution_count": 5,
     "metadata": {},
     "output_type": "execute_result"
    }
   ],
   "source": [
    "metadata.head()"
   ]
  },
  {
   "cell_type": "code",
   "execution_count": 6,
   "id": "b17b108a",
   "metadata": {},
   "outputs": [],
   "source": [
    "#We want fiction and tales in English\n",
    "kw = ['fiction','tale']\n",
    "\n",
    "metadata = metadata[metadata['subjects'].apply(lambda x: any([k in x.lower() for k in kw]))]\n",
    "metadata = metadata[metadata['language']=='[\\'en\\']']"
   ]
  },
  {
   "cell_type": "code",
   "execution_count": 7,
   "id": "e5e970e7",
   "metadata": {},
   "outputs": [
    {
     "data": {
      "text/html": [
       "<div>\n",
       "<style scoped>\n",
       "    .dataframe tbody tr th:only-of-type {\n",
       "        vertical-align: middle;\n",
       "    }\n",
       "\n",
       "    .dataframe tbody tr th {\n",
       "        vertical-align: top;\n",
       "    }\n",
       "\n",
       "    .dataframe thead th {\n",
       "        text-align: right;\n",
       "    }\n",
       "</style>\n",
       "<table border=\"1\" class=\"dataframe\">\n",
       "  <thead>\n",
       "    <tr style=\"text-align: right;\">\n",
       "      <th></th>\n",
       "      <th>id</th>\n",
       "      <th>title</th>\n",
       "      <th>author</th>\n",
       "      <th>authoryearofbirth</th>\n",
       "      <th>authoryearofdeath</th>\n",
       "      <th>language</th>\n",
       "      <th>downloads</th>\n",
       "      <th>subjects</th>\n",
       "      <th>type</th>\n",
       "    </tr>\n",
       "  </thead>\n",
       "  <tbody>\n",
       "    <tr>\n",
       "      <th>1</th>\n",
       "      <td>PG1</td>\n",
       "      <td>The Declaration of Independence of the United ...</td>\n",
       "      <td>Jefferson, Thomas</td>\n",
       "      <td>1743.0</td>\n",
       "      <td>1826.0</td>\n",
       "      <td>['en']</td>\n",
       "      <td>604.0</td>\n",
       "      <td>{'United States -- History -- Revolution, 1775...</td>\n",
       "      <td>Text</td>\n",
       "    </tr>\n",
       "    <tr>\n",
       "      <th>2</th>\n",
       "      <td>PG2</td>\n",
       "      <td>The United States Bill of Rights: The Ten Orig...</td>\n",
       "      <td>United States</td>\n",
       "      <td>NaN</td>\n",
       "      <td>NaN</td>\n",
       "      <td>['en']</td>\n",
       "      <td>158.0</td>\n",
       "      <td>{'Civil rights -- United States -- Sources', '...</td>\n",
       "      <td>Text</td>\n",
       "    </tr>\n",
       "    <tr>\n",
       "      <th>3</th>\n",
       "      <td>PG3</td>\n",
       "      <td>John F. Kennedy's Inaugural Address</td>\n",
       "      <td>Kennedy, John F. (John Fitzgerald)</td>\n",
       "      <td>1917.0</td>\n",
       "      <td>1963.0</td>\n",
       "      <td>['en']</td>\n",
       "      <td>28.0</td>\n",
       "      <td>{'Presidents -- United States -- Inaugural add...</td>\n",
       "      <td>Text</td>\n",
       "    </tr>\n",
       "    <tr>\n",
       "      <th>4</th>\n",
       "      <td>PG4</td>\n",
       "      <td>Lincoln's Gettysburg Address: Given November 1...</td>\n",
       "      <td>Lincoln, Abraham</td>\n",
       "      <td>1809.0</td>\n",
       "      <td>1865.0</td>\n",
       "      <td>['en']</td>\n",
       "      <td>55.0</td>\n",
       "      <td>{'Consecration of cemeteries -- Pennsylvania -...</td>\n",
       "      <td>Text</td>\n",
       "    </tr>\n",
       "    <tr>\n",
       "      <th>5</th>\n",
       "      <td>PG5</td>\n",
       "      <td>The United States Constitution</td>\n",
       "      <td>United States</td>\n",
       "      <td>NaN</td>\n",
       "      <td>NaN</td>\n",
       "      <td>['en']</td>\n",
       "      <td>226.0</td>\n",
       "      <td>{'United States. Constitution', 'United States...</td>\n",
       "      <td>Text</td>\n",
       "    </tr>\n",
       "  </tbody>\n",
       "</table>\n",
       "</div>"
      ],
      "text/plain": [
       "    id                                              title  \\\n",
       "1  PG1  The Declaration of Independence of the United ...   \n",
       "2  PG2  The United States Bill of Rights: The Ten Orig...   \n",
       "3  PG3                John F. Kennedy's Inaugural Address   \n",
       "4  PG4  Lincoln's Gettysburg Address: Given November 1...   \n",
       "5  PG5                     The United States Constitution   \n",
       "\n",
       "                               author  authoryearofbirth  authoryearofdeath  \\\n",
       "1                   Jefferson, Thomas             1743.0             1826.0   \n",
       "2                       United States                NaN                NaN   \n",
       "3  Kennedy, John F. (John Fitzgerald)             1917.0             1963.0   \n",
       "4                    Lincoln, Abraham             1809.0             1865.0   \n",
       "5                       United States                NaN                NaN   \n",
       "\n",
       "  language  downloads                                           subjects  type  \n",
       "1   ['en']      604.0  {'United States -- History -- Revolution, 1775...  Text  \n",
       "2   ['en']      158.0  {'Civil rights -- United States -- Sources', '...  Text  \n",
       "3   ['en']       28.0  {'Presidents -- United States -- Inaugural add...  Text  \n",
       "4   ['en']       55.0  {'Consecration of cemeteries -- Pennsylvania -...  Text  \n",
       "5   ['en']      226.0  {'United States. Constitution', 'United States...  Text  "
      ]
     },
     "execution_count": 7,
     "metadata": {},
     "output_type": "execute_result"
    }
   ],
   "source": [
    "metadata.head()"
   ]
  },
  {
   "cell_type": "code",
   "execution_count": 8,
   "id": "b909c7c6",
   "metadata": {},
   "outputs": [
    {
     "name": "stdout",
     "output_type": "stream",
     "text": [
      "<class 'pandas.core.frame.DataFrame'>\n",
      "Int64Index: 46972 entries, 1 to 57711\n",
      "Data columns (total 9 columns):\n",
      " #   Column             Non-Null Count  Dtype  \n",
      "---  ------             --------------  -----  \n",
      " 0   id                 46972 non-null  object \n",
      " 1   title              46902 non-null  object \n",
      " 2   author             44987 non-null  object \n",
      " 3   authoryearofbirth  34294 non-null  float64\n",
      " 4   authoryearofdeath  33247 non-null  float64\n",
      " 5   language           46972 non-null  object \n",
      " 6   downloads          46972 non-null  float64\n",
      " 7   subjects           46972 non-null  object \n",
      " 8   type               46972 non-null  object \n",
      "dtypes: float64(3), object(6)\n",
      "memory usage: 3.6+ MB\n"
     ]
    }
   ],
   "source": [
    "metadata.info()"
   ]
  },
  {
   "cell_type": "code",
   "execution_count": 31,
   "id": "4fefc255",
   "metadata": {},
   "outputs": [
    {
     "data": {
      "text/plain": [
       "15       {'Mentally ill -- Fiction', 'Whaling ships -- ...\n",
       "16       {'Fantasy literature', 'Pirates -- Fiction', '...\n",
       "24       {'Swedish Americans -- Fiction', 'Domestic fic...\n",
       "27       {'Love stories', 'Wessex (England) -- Fiction'...\n",
       "32       {'Women -- Fiction', 'Utopias -- Fiction', 'Ut...\n",
       "                               ...                        \n",
       "57135                         {'Capitol pages -- Fiction'}\n",
       "57164                  {'English fiction -- 19th century'}\n",
       "57169    {'Camp Fire Girls -- Juvenile fiction', 'Haunt...\n",
       "57303    {'Antiaircraft guns -- Juvenile fiction', 'Inv...\n",
       "57442                        {'Married people -- Fiction'}\n",
       "Name: subjects, Length: 17154, dtype: object"
      ]
     },
     "execution_count": 31,
     "metadata": {},
     "output_type": "execute_result"
    }
   ],
   "source": [
    "metadata.subjects"
   ]
  },
  {
   "cell_type": "code",
   "execution_count": 1,
   "id": "9762e589",
   "metadata": {},
   "outputs": [
    {
     "ename": "NameError",
     "evalue": "name 'metadata' is not defined",
     "output_type": "error",
     "traceback": [
      "\u001b[1;31m---------------------------------------------------------------------------\u001b[0m",
      "\u001b[1;31mNameError\u001b[0m                                 Traceback (most recent call last)",
      "\u001b[1;32m<ipython-input-1-1b56e24fead7>\u001b[0m in \u001b[0;36m<module>\u001b[1;34m\u001b[0m\n\u001b[1;32m----> 1\u001b[1;33m \u001b[0mmetadata\u001b[0m\u001b[1;33m.\u001b[0m\u001b[0msubjects\u001b[0m \u001b[1;33m=\u001b[0m \u001b[0mmetadata\u001b[0m\u001b[1;33m.\u001b[0m\u001b[0msubjects\u001b[0m\u001b[1;33m.\u001b[0m\u001b[0mreplace\u001b[0m\u001b[1;33m(\u001b[0m\u001b[1;34m' -- Fiction'\u001b[0m\u001b[1;33m,\u001b[0m \u001b[1;34m''\u001b[0m\u001b[1;33m)\u001b[0m\u001b[1;33m\u001b[0m\u001b[1;33m\u001b[0m\u001b[0m\n\u001b[0m",
      "\u001b[1;31mNameError\u001b[0m: name 'metadata' is not defined"
     ]
    }
   ],
   "source": [
    "metadata.subjects = metadata.subjects.replace(' -- Fiction', '')"
   ]
  },
  {
   "cell_type": "code",
   "execution_count": null,
   "id": "fd33e408",
   "metadata": {},
   "outputs": [],
   "source": []
  }
 ],
 "metadata": {
  "kernelspec": {
   "display_name": "Python 3",
   "language": "python",
   "name": "python3"
  },
  "language_info": {
   "codemirror_mode": {
    "name": "ipython",
    "version": 3
   },
   "file_extension": ".py",
   "mimetype": "text/x-python",
   "name": "python",
   "nbconvert_exporter": "python",
   "pygments_lexer": "ipython3",
   "version": "3.8.3"
  }
 },
 "nbformat": 4,
 "nbformat_minor": 5
}
