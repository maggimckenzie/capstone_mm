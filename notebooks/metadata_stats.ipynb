{
 "cells": [
  {
   "cell_type": "code",
   "execution_count": null,
   "id": "5826982d",
   "metadata": {},
   "outputs": [],
   "source": [
    "import pandas as pd\n",
    "import numpy as np\n",
    "import matplotlib.pyplot as plt\n",
    "%matplotlib inline\n",
    "import plotly.express as px\n",
    "import plotly.graph_objects as go\n",
    "from plotly.subplots import make_subplots\n",
    "import chart_studio.plotly as csp"
   ]
  },
  {
   "cell_type": "code",
   "execution_count": null,
   "id": "43f26262",
   "metadata": {},
   "outputs": [],
   "source": [
    "#All Gutenberg metadata\n",
    "metadata = pd.read_csv('../data/metadata/metadata.csv')"
   ]
  },
  {
   "cell_type": "code",
   "execution_count": null,
   "id": "6e4e3fee",
   "metadata": {},
   "outputs": [],
   "source": [
    "metadata.count()"
   ]
  },
  {
   "cell_type": "code",
   "execution_count": null,
   "id": "8362c0fb",
   "metadata": {},
   "outputs": [],
   "source": [
    "#Select detective/mystery fiction and tales in English\n",
    "kw = ['fiction','tale']\n",
    "subj = ['detective', 'mystery','mysteries']\n",
    "mystery = metadata[metadata['language']=='[\\'en\\']']\n",
    "mystery = mystery[mystery['subjects'].apply(lambda x: any([k in x.lower() for k in kw]))]\n",
    "mystery = mystery[mystery['subjects'].apply(lambda x: any([k in x.lower() for k in subj]))]"
   ]
  },
  {
   "cell_type": "code",
   "execution_count": null,
   "id": "4c67917e",
   "metadata": {},
   "outputs": [],
   "source": [
    "popular = mystery[mystery['downloads'] > 50].sort_values('downloads', ascending = False)\n",
    "popular"
   ]
  },
  {
   "cell_type": "code",
   "execution_count": null,
   "id": "7f8ad000",
   "metadata": {},
   "outputs": [],
   "source": [
    "popular.groupby(['author'])['title'].count().sort_values(ascending = False)"
   ]
  },
  {
   "cell_type": "code",
   "execution_count": null,
   "id": "5665fd0d",
   "metadata": {},
   "outputs": [],
   "source": [
    "not_popular = mystery[mystery['downloads'] <= 50].sort_values('downloads', ascending = False)\n",
    "not_popular"
   ]
  },
  {
   "cell_type": "code",
   "execution_count": null,
   "id": "6629da04",
   "metadata": {},
   "outputs": [],
   "source": [
    "not_popular.groupby(['author'])['title'].count().sort_values(ascending = False)"
   ]
  },
  {
   "cell_type": "code",
   "execution_count": null,
   "id": "9dedb0a5",
   "metadata": {},
   "outputs": [],
   "source": [
    "min_mystery = mystery[mystery['authoryearofbirth']>0]['authoryearofbirth'].min()\n",
    "max_mystery = mystery[mystery['authoryearofbirth']>0]['authoryearofbirth'].max()\n",
    "mystery[mystery['authoryearofbirth'].isin([min_mystery, max_mystery])]"
   ]
  },
  {
   "cell_type": "code",
   "execution_count": null,
   "id": "0760585b",
   "metadata": {},
   "outputs": [],
   "source": []
  },
  {
   "cell_type": "code",
   "execution_count": null,
   "id": "b8e479dc",
   "metadata": {},
   "outputs": [],
   "source": [
    "min_meta = metadata[metadata['authoryearofbirth']>0]['authoryearofbirth'].min()\n",
    "max_meta = metadata[metadata['authoryearofbirth']>0]['authoryearofbirth'].max()\n",
    "metadata[metadata['authoryearofbirth'].isin([min_meta, max_meta])]"
   ]
  },
  {
   "cell_type": "code",
   "execution_count": null,
   "id": "7170781d",
   "metadata": {},
   "outputs": [],
   "source": [
    "popular_meta = metadata[metadata['downloads'] > 1000].sort_values('downloads', ascending = False)\n",
    "popular_meta.head(10)"
   ]
  },
  {
   "cell_type": "code",
   "execution_count": null,
   "id": "051390fc",
   "metadata": {},
   "outputs": [],
   "source": [
    "popular_meta.at[894, 'title'] = 'A Modest Proposal'\n",
    "popular_meta.at[63656, 'title'] = 'The Importance of Being Earnest'\n",
    "popular_meta.head(10)"
   ]
  },
  {
   "cell_type": "code",
   "execution_count": null,
   "id": "f98a6d83",
   "metadata": {},
   "outputs": [],
   "source": [
    "not_popular_meta = metadata[metadata['downloads'] <= 1000].sort_values('downloads', ascending = False)\n",
    "not_popular_meta"
   ]
  },
  {
   "cell_type": "code",
   "execution_count": null,
   "id": "be30e71b",
   "metadata": {},
   "outputs": [],
   "source": [
    "mystery_auth = mystery[['author','downloads']].groupby('author').sum('downloads').sort_values(['downloads'],ascending = False).reset_index()\n",
    "mystery_auth"
   ]
  },
  {
   "cell_type": "code",
   "execution_count": null,
   "id": "90cd31be",
   "metadata": {},
   "outputs": [],
   "source": [
    "metadata_auth = metadata[['author','downloads']].groupby('author').sum('downloads').sort_values(['downloads'],ascending = False).reset_index()\n",
    "metadata_auth"
   ]
  },
  {
   "cell_type": "code",
   "execution_count": null,
   "id": "f2e7e1ba",
   "metadata": {},
   "outputs": [],
   "source": [
    "rgb = 'rgb(203,213,232)'\n",
    "fig1 = px.bar(mystery_auth.head(10), y='author', x='downloads',  \n",
    "             #title = 'Mystery Authors - Top 10 by Total Downloads',\n",
    "             template='plotly_dark',\n",
    "             color_discrete_sequence=px.colors.qualitative.Antique,\n",
    "             #hover_name = 'rept_name_1', \n",
    "             #hover_data = ['from_npi_specialty','patient_count' ],\n",
    "             labels = {'author':'', 'downloads':'Number of downloads'},\n",
    "            orientation = 'h')\n",
    "#fig.update_xaxes(type='category')\n",
    "#fig1.update_traces(texttemplate='%{x}', textposition='inside')\n",
    "fig1.update_traces(marker_color=rgb, marker_line_color=rgb,\n",
    "                  marker_line_width=1.5, opacity=0.6)\n",
    "fig1.update_layout(barmode='stack'#, yaxis={'categoryorder':'category ascending'}\n",
    "                  )\n",
    "fig1.update_layout({'plot_bgcolor': 'rgba(0,0,0,0)','paper_bgcolor': 'rgba(0,0,0,0)'})\n",
    "#fig1.update_layout({'plot_bgcolor': 'rgba(102,102,102,1)','paper_bgcolor': 'rgba(102,102,102,1)'})\n",
    "fig1.show()"
   ]
  },
  {
   "cell_type": "code",
   "execution_count": null,
   "id": "f04b3e3c",
   "metadata": {},
   "outputs": [],
   "source": [
    "fig2 = px.bar(metadata_auth.head(10), y='author', x='downloads',  \n",
    "             #title = 'All Authors - Top 10 by Total Downloads',\n",
    "             template='plotly_dark',\n",
    "             color_discrete_sequence=px.colors.qualitative.Antique,\n",
    "             #hover_name = 'rept_name_1', \n",
    "             #hover_data = ['from_npi_specialty','patient_count' ],\n",
    "             labels = {'author':'', 'downloads':'Number of downloads'},\n",
    "            orientation = 'h')\n",
    "#fig.update_xaxes(type='category')\n",
    "#fig2.update_traces(texttemplate='%{x}', textposition='inside')\n",
    "fig2.update_traces(marker_color=rgb, marker_line_color=rgb,\n",
    "                  marker_line_width=1.5, opacity=0.6)\n",
    "fig2.update_layout(barmode='stack'#, yaxis={'categoryorder':'category ascending'}\n",
    "                  )\n",
    "fig2.update_layout({'plot_bgcolor': 'rgba(0,0,0,0)','paper_bgcolor': 'rgba(0,0,0,0)'})\n",
    "#fig2.update_layout({'plot_bgcolor': 'rgba(102,102,102,1)','paper_bgcolor': 'rgba(102,102,102,1)'})\n",
    "fig2.show()"
   ]
  },
  {
   "cell_type": "code",
   "execution_count": null,
   "id": "64dd1966",
   "metadata": {},
   "outputs": [],
   "source": [
    "fig3 = px.bar(popular_meta.head(10), y='title', x='downloads',  \n",
    "             #title = 'All Titles - Top 10 by Total Downloads',\n",
    "             template='plotly_dark',\n",
    "             color_discrete_sequence=px.colors.qualitative.Antique,\n",
    "             #hover_name = 'rept_name_1', \n",
    "             #hover_data = ['from_npi_specialty','patient_count' ],\n",
    "             labels = {'title':'', 'downloads':'Number of downloads'},\n",
    "            orientation = 'h')\n",
    "#fig.update_xaxes(type='category')\n",
    "#fig3.update_traces(texttemplate='%{x}', textposition='inside')\n",
    "fig3.update_traces(marker_color=rgb, marker_line_color=rgb,\n",
    "                  marker_line_width=1.5, opacity=0.6)\n",
    "fig3.update_layout(barmode='stack'#, yaxis={'categoryorder':'category ascending'}\n",
    "                  )\n",
    "fig3.update_layout({'plot_bgcolor': 'rgba(0,0,0,0)','paper_bgcolor': 'rgba(0,0,0,0)'})\n",
    "#fig3.update_layout({'plot_bgcolor': 'rgba(102,102,102,1)','paper_bgcolor': 'rgba(102,102,102,1)'})\n",
    "#fig3.update_layout(margin=dict(l=500, r=20, t=20, b=20))\n",
    "fig3.show()"
   ]
  },
  {
   "cell_type": "code",
   "execution_count": null,
   "id": "d2f31e4e",
   "metadata": {
    "scrolled": false
   },
   "outputs": [],
   "source": [
    "fig4 = px.bar(popular.head(10), y='title', x='downloads',  \n",
    "             #title = 'Mystery Titles - Top 10 by Total Downloads',\n",
    "             template='plotly_dark',\n",
    "             color_discrete_sequence=px.colors.qualitative.Antique,\n",
    "             #hover_name = 'rept_name_1', \n",
    "             #hover_data = ['from_npi_specialty','patient_count' ],\n",
    "             labels = {'title':'', 'downloads':'Number of downloads'},\n",
    "            orientation = 'h')\n",
    "#fig.update_xaxes(type='category')\n",
    "#fig4.update_traces(texttemplate='%{x}', textposition='inside')\n",
    "fig4.update_traces(marker_color=rgb, marker_line_color=rgb,\n",
    "                  marker_line_width=1.5, opacity=0.6)\n",
    "fig4.update_layout(barmode='stack'#, yaxis={'categoryorder':'category ascending'}\n",
    "                  )\n",
    "fig4.update_layout({'plot_bgcolor': 'rgba(0,0,0,0)','paper_bgcolor': 'rgba(0,0,0,0)'})\n",
    "#fig4.update_layout({'plot_bgcolor': 'rgba(102,102,102,1)','paper_bgcolor': 'rgba(102,102,102,1)'})\n",
    "fig4.show()"
   ]
  },
  {
   "cell_type": "code",
   "execution_count": null,
   "id": "ab46af84",
   "metadata": {},
   "outputs": [],
   "source": [
    "data_words = pd.read_csv('../data/model_data/dm_lda_05/data_words.txt',delimiter = \"\\t\", header = None, names = ['words'])\n",
    "data_words.head()"
   ]
  },
  {
   "cell_type": "code",
   "execution_count": null,
   "id": "12e306ee",
   "metadata": {},
   "outputs": [],
   "source": [
    "word_list = data_words['words'].to_list()"
   ]
  },
  {
   "cell_type": "code",
   "execution_count": null,
   "id": "cf13b446",
   "metadata": {},
   "outputs": [],
   "source": [
    "word_count = []\n",
    "for item in word_list:\n",
    "    count = item.count(',') + 1\n",
    "    #print(count)\n",
    "    word_count.append(count)\n",
    "word_counts = pd.DataFrame(word_count, columns = ['word_count'])"
   ]
  },
  {
   "cell_type": "code",
   "execution_count": null,
   "id": "dbe36513",
   "metadata": {},
   "outputs": [],
   "source": [
    "data_words = data_words.merge(word_counts, left_index = True, right_index = True)"
   ]
  },
  {
   "cell_type": "code",
   "execution_count": null,
   "id": "87991692",
   "metadata": {},
   "outputs": [],
   "source": [
    "data_words['category'] = (((data_words['word_count'] - (data_words['word_count'] % 25000))/25000) * 25).astype(int).astype(str) + 'K'\n",
    "data_words['sort'] = (((data_words['word_count'] - (data_words['word_count'] % 25000))/25000)).astype(int)"
   ]
  },
  {
   "cell_type": "code",
   "execution_count": null,
   "id": "fe67c928",
   "metadata": {},
   "outputs": [],
   "source": [
    "data_words"
   ]
  },
  {
   "cell_type": "code",
   "execution_count": null,
   "id": "d28aee9c",
   "metadata": {},
   "outputs": [],
   "source": [
    "title_word_counts = pd.DataFrame(data_words['category'].value_counts())\n",
    "title_word_counts = title_word_counts.reset_index()\n",
    "title_word_counts.columns =['word_count', 'num_titles']\n",
    "sort = data_words.groupby(['category','sort']).count()\n",
    "sort = sort.sort_values('sort').reset_index()\n",
    "sort = sort[['category','sort']]\n",
    "sort"
   ]
  },
  {
   "cell_type": "code",
   "execution_count": null,
   "id": "a6d1ccc4",
   "metadata": {},
   "outputs": [],
   "source": [
    "title_word_counts = title_word_counts.merge(sort, right_on = 'category',left_on= 'word_count')"
   ]
  },
  {
   "cell_type": "code",
   "execution_count": null,
   "id": "10cfd87e",
   "metadata": {},
   "outputs": [],
   "source": [
    "title_word_counts\n",
    "title_word_counts=title_word_counts[['word_count','num_titles','sort']].sort_values('sort').reset_index(drop = True)"
   ]
  },
  {
   "cell_type": "code",
   "execution_count": null,
   "id": "4f9883f1",
   "metadata": {},
   "outputs": [],
   "source": [
    "title_word_counts"
   ]
  },
  {
   "cell_type": "code",
   "execution_count": null,
   "id": "a92aa7a0",
   "metadata": {},
   "outputs": [],
   "source": [
    "fig5 = px.bar(title_word_counts, y='word_count', x='num_titles',  \n",
    "             #title = 'Mystery Titles - Top 10 by Total Downloads',\n",
    "             template='plotly_dark',\n",
    "             color_discrete_sequence=px.colors.qualitative.Antique,\n",
    "             #hover_name = 'rept_name_1', \n",
    "             #hover_data = ['from_npi_specialty','patient_count' ],\n",
    "             labels = {'word_count':'Word count', 'num_titles':'Number of titles'},\n",
    "            orientation = 'h')\n",
    "#fig.update_xaxes(type='category')\n",
    "#fig4.update_traces(texttemplate='%{x}', textposition='inside')\n",
    "fig5.update_traces(marker_color=rgb, marker_line_color=rgb,\n",
    "                  marker_line_width=1.5, opacity=0.6)\n",
    "fig5.update_layout(barmode='stack'#, yaxis={'categoryorder':'category ascending'}\n",
    "                  )\n",
    "fig5.update_layout({'plot_bgcolor': 'rgba(0,0,0,0)','paper_bgcolor': 'rgba(0,0,0,0)'})\n",
    "#fig5.update_layout({'plot_bgcolor': 'rgba(102,102,102,1)','paper_bgcolor': 'rgba(102,102,102,1)'})\n",
    "fig5.show()"
   ]
  },
  {
   "cell_type": "code",
   "execution_count": null,
   "id": "ed5da6e1",
   "metadata": {},
   "outputs": [],
   "source": []
  },
  {
   "cell_type": "code",
   "execution_count": null,
   "id": "29654fe2",
   "metadata": {},
   "outputs": [],
   "source": []
  },
  {
   "cell_type": "code",
   "execution_count": null,
   "id": "fa59a728",
   "metadata": {},
   "outputs": [],
   "source": []
  }
 ],
 "metadata": {
  "kernelspec": {
   "display_name": "Python 3",
   "language": "python",
   "name": "python3"
  },
  "language_info": {
   "codemirror_mode": {
    "name": "ipython",
    "version": 3
   },
   "file_extension": ".py",
   "mimetype": "text/x-python",
   "name": "python",
   "nbconvert_exporter": "python",
   "pygments_lexer": "ipython3",
   "version": "3.8.3"
  }
 },
 "nbformat": 4,
 "nbformat_minor": 5
}
